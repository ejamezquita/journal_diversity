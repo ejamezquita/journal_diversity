{
 "cells": [
  {
   "cell_type": "code",
   "execution_count": 1,
   "id": "thermal-inspiration",
   "metadata": {},
   "outputs": [],
   "source": [
    "import numpy as np\n",
    "import pandas as pd\n",
    "\n",
    "from geopy.geocoders import Nominatim, GoogleV3\n",
    "from geopy.extra.rate_limiter import RateLimiter"
   ]
  },
  {
   "cell_type": "code",
   "execution_count": 2,
   "id": "recent-prison",
   "metadata": {},
   "outputs": [],
   "source": [
    "geolocator = Nominatim(user_agent='ejam')"
   ]
  },
  {
   "cell_type": "code",
   "execution_count": 5,
   "id": "electric-expert",
   "metadata": {},
   "outputs": [],
   "source": [
    "locationfile = '../results/uqlocations_iceland.tsv'\n",
    "data = pd.read_table(locationfile, header=None)\n",
    "data.columns = ['index', 'country', 'location', 'count', 'lat', 'lon']"
   ]
  },
  {
   "cell_type": "code",
   "execution_count": 6,
   "id": "dominican-cathedral",
   "metadata": {},
   "outputs": [
    {
     "name": "stdout",
     "output_type": "stream",
     "text": [
      "Cost: $ 0.05\n",
      "Time:  0.2 s\n"
     ]
    }
   ],
   "source": [
    "print('Cost: $', data.shape[0]*0.005)\n",
    "print('Time: ', data.shape[0]/50, 's')"
   ]
  },
  {
   "cell_type": "code",
   "execution_count": 7,
   "id": "commercial-graduate",
   "metadata": {},
   "outputs": [
    {
     "data": {
      "text/html": [
       "<div>\n",
       "<style scoped>\n",
       "    .dataframe tbody tr th:only-of-type {\n",
       "        vertical-align: middle;\n",
       "    }\n",
       "\n",
       "    .dataframe tbody tr th {\n",
       "        vertical-align: top;\n",
       "    }\n",
       "\n",
       "    .dataframe thead th {\n",
       "        text-align: right;\n",
       "    }\n",
       "</style>\n",
       "<table border=\"1\" class=\"dataframe\">\n",
       "  <thead>\n",
       "    <tr style=\"text-align: right;\">\n",
       "      <th></th>\n",
       "      <th>index</th>\n",
       "      <th>country</th>\n",
       "      <th>location</th>\n",
       "      <th>count</th>\n",
       "      <th>lat</th>\n",
       "      <th>lon</th>\n",
       "    </tr>\n",
       "  </thead>\n",
       "  <tbody>\n",
       "    <tr>\n",
       "      <th>0</th>\n",
       "      <td>0</td>\n",
       "      <td>Iceland</td>\n",
       "      <td>Reykjavik, Iceland</td>\n",
       "      <td>120</td>\n",
       "      <td>1</td>\n",
       "      <td>1</td>\n",
       "    </tr>\n",
       "    <tr>\n",
       "      <th>1</th>\n",
       "      <td>1</td>\n",
       "      <td>Iceland</td>\n",
       "      <td>Akureyri, Iceland</td>\n",
       "      <td>14</td>\n",
       "      <td>1</td>\n",
       "      <td>1</td>\n",
       "    </tr>\n",
       "    <tr>\n",
       "      <th>2</th>\n",
       "      <td>2</td>\n",
       "      <td>Iceland</td>\n",
       "      <td>Skagastrond, Iceland</td>\n",
       "      <td>4</td>\n",
       "      <td>1</td>\n",
       "      <td>1</td>\n",
       "    </tr>\n",
       "    <tr>\n",
       "      <th>3</th>\n",
       "      <td>3</td>\n",
       "      <td>Iceland</td>\n",
       "      <td>Borgarnes, Iceland</td>\n",
       "      <td>2</td>\n",
       "      <td>1</td>\n",
       "      <td>1</td>\n",
       "    </tr>\n",
       "    <tr>\n",
       "      <th>4</th>\n",
       "      <td>4</td>\n",
       "      <td>Iceland</td>\n",
       "      <td>Asbru, Iceland</td>\n",
       "      <td>2</td>\n",
       "      <td>1</td>\n",
       "      <td>1</td>\n",
       "    </tr>\n",
       "  </tbody>\n",
       "</table>\n",
       "</div>"
      ],
      "text/plain": [
       "   index  country              location  count  lat  lon\n",
       "0      0  Iceland    Reykjavik, Iceland    120    1    1\n",
       "1      1  Iceland     Akureyri, Iceland     14    1    1\n",
       "2      2  Iceland  Skagastrond, Iceland      4    1    1\n",
       "3      3  Iceland    Borgarnes, Iceland      2    1    1\n",
       "4      4  Iceland        Asbru, Iceland      2    1    1"
      ]
     },
     "execution_count": 7,
     "metadata": {},
     "output_type": "execute_result"
    }
   ],
   "source": [
    "latitudes = np.zeros(len(data))\n",
    "longitude = np.zeros(len(data))\n",
    "data.head()"
   ]
  },
  {
   "cell_type": "code",
   "execution_count": 38,
   "id": "native-contrast",
   "metadata": {},
   "outputs": [
    {
     "name": "stdout",
     "output_type": "stream",
     "text": [
      "Brazil\n",
      "Brunei\n",
      "Bulgaria\n",
      "Burkina Faso\n",
      "Burundi\n",
      "Cambodia\n",
      "Cameroon\n",
      "Canada\n",
      "Cape Verde\n",
      "Cayman Islands\n",
      "Cent Afr Republ\n",
      "Chad\n",
      "Chile\n",
      "Colombia\n",
      "Comoros\n",
      "Cook Islands\n",
      "Costa Rica\n",
      "Cote Ivoire\n",
      "Croatia\n",
      "Cuba\n",
      "Cyprus\n",
      "Czech Republic\n",
      "DEM REP CONGO\n",
      "Denmark\n",
      "Djibouti\n",
      "Dominican Rep\n",
      "Dominica\n",
      "Ecuador\n",
      "Egypt\n",
      "El Salvador\n",
      "England\n",
      "Equat Guinea\n",
      "Eritrea\n",
      "Estonia\n",
      "Eswatini\n",
      "Ethiopia\n",
      "Falkland Island\n",
      "Fiji\n",
      "Finland\n",
      "France\n",
      "French Guiana\n",
      "Gabon\n",
      "Gambia\n",
      "Georgia\n",
      "Germany\n",
      "Ghana\n",
      "Gibraltar\n",
      "Greece\n",
      "Greenland\n",
      "Grenada\n",
      "Guatemala\n",
      "Guinea Bissau\n",
      "Guinea\n",
      "Guyana\n",
      "Haiti\n",
      "Honduras\n",
      "Hungary\n",
      "Iceland\n",
      "India\n",
      "Indonesia\n",
      "Iran\n",
      "Iraq\n",
      "Ireland\n",
      "Israel\n",
      "Italy\n",
      "Jamaica\n",
      "Japan\n",
      "Jordan\n",
      "Kazakhstan\n",
      "Kenya\n",
      "Kiribati\n",
      "Kosovo\n",
      "Kuwait\n",
      "Kyrgyzstan\n",
      "Laos\n",
      "Latvia\n",
      "Lebanon\n",
      "Lesotho\n",
      "Liberia\n",
      "Libya\n",
      "Lithuania\n",
      "Luxembourg\n",
      "Macedonia\n",
      "Madagascar\n",
      "Malawi\n",
      "Malaysia\n",
      "Maldives\n",
      "Mali\n",
      "Malta\n",
      "Mauritania\n",
      "Mauritius\n",
      "Mexico\n",
      "Micronesia\n",
      "Moldova\n",
      "Monaco\n",
      "Mongolia\n",
      "Montenegro\n",
      "Morocco\n",
      "Mozambique\n",
      "Myanmar\n",
      "Namibia\n",
      "Nepal\n",
      "Neth Antilles\n",
      "Netherlands\n",
      "New Caledonia\n",
      "New Zealand\n",
      "Nicaragua\n",
      "Nigeria\n",
      "Niger\n",
      "North Ireland\n",
      "North Korea\n",
      "North Macedonia\n",
      "Norway\n",
      "Oman\n",
      "Pakistan\n",
      "Palau\n",
      "Palestine\n",
      "Panama\n",
      "Papua N Guinea\n",
      "Paraguay\n",
      "Peoples R China\n",
      "Peru\n",
      "Philippines\n",
      "Poland\n",
      "Portugal\n",
      "Qatar\n",
      "Rep Congo\n",
      "Romania\n",
      "Russia\n",
      "Rwanda\n",
      "Samoa\n",
      "Saudi Arabia\n",
      "Scotland\n",
      "Senegal\n",
      "Serbia Monteneg\n",
      "Serbia\n",
      "Seychelles\n",
      "Sierra Leone\n",
      "Singapore\n",
      "Slovakia\n",
      "Slovenia\n",
      "Solomon Islands\n",
      "Somalia\n",
      "South Africa\n",
      "South Korea\n",
      "South Sudan\n",
      "Spain\n",
      "Sri Lanka\n",
      "St Kitts & Nevi\n",
      "St Vincent\n",
      "Sudan\n",
      "Suriname\n",
      "Swaziland\n",
      "Sweden\n",
      "Switzerland\n",
      "Syria\n",
      "Taiwan\n",
      "Tajikistan\n",
      "Tanzania\n",
      "Thailand\n",
      "Timor-Leste\n",
      "Togo\n",
      "Tonga\n",
      "Trinidad Tobago\n",
      "Tunisia\n",
      "Turkey\n",
      "Turkmenistan\n",
      "Tuvalu\n",
      "U Arab Emirates\n",
      "Uganda\n",
      "Ukraine\n",
      "Uruguay\n",
      "USA\n",
      "Uzbekistan\n",
      "Vanuatu\n",
      "Venezuela\n",
      "Vietnam\n",
      "Wales\n",
      "Yemen\n",
      "Yugoslavia\n",
      "Zambia\n",
      "Zimbabwe\n"
     ]
    }
   ],
   "source": [
    "nonelocations = []\n",
    "idx = 0\n",
    "current = ''\n",
    "for idx in range(1753, len(latitudes)):\n",
    "    country = data.country[idx]\n",
    "    if country != current:\n",
    "        print(country)\n",
    "        current = country\n",
    "    loc = data.location[idx]\n",
    "    location = geolocator.geocode(loc, timeout=60, exactly_one=True)\n",
    "    if location is not None:\n",
    "        latitudes[idx] = location.latitude\n",
    "        longitude[idx] = location.longitude\n",
    "    else:\n",
    "        nonelocations.append(list(data.iloc[idx].values))"
   ]
  },
  {
   "cell_type": "code",
   "execution_count": 8,
   "id": "suspected-battlefield",
   "metadata": {},
   "outputs": [
    {
     "name": "stdout",
     "output_type": "stream",
     "text": [
      "Reykjavik, Iceland\n"
     ]
    }
   ],
   "source": [
    "idx = 0\n",
    "loc = data.location[idx]\n",
    "print(loc)\n",
    "location = geolocator.geocode(loc, timeout=60, exactly_one=True)\n"
   ]
  },
  {
   "cell_type": "code",
   "execution_count": 10,
   "id": "tested-pendant",
   "metadata": {},
   "outputs": [
    {
     "data": {
      "text/plain": [
       "64.146582"
      ]
     },
     "execution_count": 10,
     "metadata": {},
     "output_type": "execute_result"
    }
   ],
   "source": [
    "location.latitude"
   ]
  },
  {
   "cell_type": "code",
   "execution_count": 40,
   "id": "collectible-movie",
   "metadata": {},
   "outputs": [
    {
     "data": {
      "text/plain": [
       "[[550, -433, 'Brazil', 'Sub Solo, Brazil', 1],\n",
       " [673, -310, 'Brazil', 'Vegetal, Brazil', 1],\n",
       " [771, -212, 'Brazil', 'Cidade Univ Zeferino Vaz, Brazil', 1],\n",
       " [79, -28, 'Chile', 'Ignacio Serrano, Chile', 1],\n",
       " [42, -37, 'Czech Republic', 'Rozvojova, Czech Republic', 2],\n",
       " [167, -267, 'England', 'Whiteknights, England', 3],\n",
       " [202, -232, 'England', 'Kcw, England', 2],\n",
       " [316, -118, 'England', 'Presque Isle, England', 1],\n",
       " [361, -73, 'England', 'Harrow, Middx, England', 1],\n",
       " [428, -6, 'England', 'Queen Mary, England', 1],\n",
       " [1002, -339, 'India', 'Mangalagangothri, DK, India', 1],\n",
       " [75, -71, 'Indonesia', 'Sagar, Indonesia', 1],\n",
       " [551, -516, 'Japan', 'Mozume, Mukoh, Japan', 2],\n",
       " [4, -12, 'Jordan', 'Baqa, Jordan', 15],\n",
       " [17, -2, 'Lebanon', 'Hadai, Lebanon', 1],\n",
       " [34, -4, 'Morocco', 'Hassan, Morocco', 1],\n",
       " [10, -1, 'Palestine', 'Canaan, Palestine', 1],\n",
       " [42, -77, 'Turkey', 'Kurupelit, Turkey', 38],\n",
       " [97, -22, 'Turkey', 'Teknikokullar, Turkey', 2],\n",
       " [106, -13, 'Turkey', 'Tubitak, Mam, Turkey', 1],\n",
       " [1306, -942, 'USA', 'Dpo, AA, USA', 2]]"
      ]
     },
     "execution_count": 40,
     "metadata": {},
     "output_type": "execute_result"
    }
   ],
   "source": [
    "nonelocations"
   ]
  },
  {
   "cell_type": "code",
   "execution_count": 48,
   "id": "alone-elements",
   "metadata": {},
   "outputs": [],
   "source": [
    "data['latitude'] = latitudes\n",
    "data['longitude'] = longitude"
   ]
  },
  {
   "cell_type": "code",
   "execution_count": 49,
   "id": "contemporary-bunch",
   "metadata": {},
   "outputs": [],
   "source": [
    "data.to_csv('../results/geopy_results.csv', index=False)"
   ]
  },
  {
   "cell_type": "markdown",
   "id": "verified-girlfriend",
   "metadata": {},
   "source": [
    "# data cleaning"
   ]
  },
  {
   "cell_type": "code",
   "execution_count": 7,
   "id": "offshore-corrections",
   "metadata": {},
   "outputs": [
    {
     "name": "stdout",
     "output_type": "stream",
     "text": [
      "(260, 6)\n"
     ]
    }
   ],
   "source": [
    "src = '../results/'\n",
    "dst = src\n",
    "countryname = 'argentina'\n",
    "filename = src + 'uqlocations_' + countryname + '.tsv'\n",
    "df = pd.read_table(filename, header=None)\n",
    "print(df.shape)"
   ]
  },
  {
   "cell_type": "code",
   "execution_count": 9,
   "id": "single-guatemala",
   "metadata": {},
   "outputs": [
    {
     "name": "stdout",
     "output_type": "stream",
     "text": [
      "(259, 6)\n"
     ]
    }
   ],
   "source": [
    "df.drop(index = df[df[4]==0].index, inplace=True)\n",
    "print(df.shape)"
   ]
  },
  {
   "cell_type": "code",
   "execution_count": 12,
   "id": "intermediate-visitor",
   "metadata": {},
   "outputs": [],
   "source": [
    "df.iloc[0, 3] += 1"
   ]
  },
  {
   "cell_type": "code",
   "execution_count": 20,
   "id": "prospective-berry",
   "metadata": {},
   "outputs": [],
   "source": [
    "df[0] = range(len(df))\n",
    "df.to_csv(filename, sep='\\t', header=False, index=False)"
   ]
  }
 ],
 "metadata": {
  "kernelspec": {
   "display_name": "Python 3 (ipykernel)",
   "language": "python",
   "name": "python3"
  },
  "language_info": {
   "codemirror_mode": {
    "name": "ipython",
    "version": 3
   },
   "file_extension": ".py",
   "mimetype": "text/x-python",
   "name": "python",
   "nbconvert_exporter": "python",
   "pygments_lexer": "ipython3",
   "version": "3.10.12"
  }
 },
 "nbformat": 4,
 "nbformat_minor": 5
}
