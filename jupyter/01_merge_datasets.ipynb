{
 "cells": [
  {
   "cell_type": "code",
   "execution_count": 1,
   "id": "above-privilege",
   "metadata": {},
   "outputs": [],
   "source": [
    "import numpy as np\n",
    "import pandas as pd\n",
    "import string\n",
    "import itertools\n",
    "\n",
    "import participation_utils as plb\n",
    "\n",
    "from importlib import reload"
   ]
  },
  {
   "cell_type": "code",
   "execution_count": 2,
   "id": "resistant-ferry",
   "metadata": {},
   "outputs": [
    {
     "name": "stderr",
     "output_type": "stream",
     "text": [
      "/home/ejam/.local/lib/python3.6/site-packages/IPython/core/interactiveshell.py:3072: DtypeWarning: Columns (24,27,28,31,35) have mixed types.Specify dtype option on import or set low_memory=False.\n",
      "  interactivity=interactivity, compiler=compiler, result=result)\n"
     ]
    },
    {
     "name": "stdout",
     "output_type": "stream",
     "text": [
      "(292434, 36)\n"
     ]
    }
   ],
   "source": [
    "filename = '../data/Plt_sci_publications_updated_5.03.csv'\n",
    "\n",
    "data = pd.read_csv(filename, usecols=range(36))\n",
    "#data = data.iloc[:,:36]\n",
    "data = data.drop_duplicates(subset=list(data.columns[:3]) + ['DOI'])\n",
    "print(data.shape)"
   ]
  },
  {
   "cell_type": "code",
   "execution_count": 3,
   "id": "dressed-conditioning",
   "metadata": {},
   "outputs": [
    {
     "name": "stdout",
     "output_type": "stream",
     "text": [
      "(292434, 36)\n"
     ]
    }
   ],
   "source": [
    "filename = '../data/Plt_sci_publications_updated_3.22.csv'\n",
    "\n",
    "data2 = pd.read_csv(filename, usecols=range(36))\n",
    "data2 = data2.drop_duplicates(subset=list(data2.columns[:3]) + ['DOI'])\n",
    "print(data.shape)"
   ]
  },
  {
   "cell_type": "code",
   "execution_count": 4,
   "id": "lesbian-convergence",
   "metadata": {},
   "outputs": [
    {
     "name": "stdout",
     "output_type": "stream",
     "text": [
      "0 Epidemiology of Wheat streak mosaic virus in wheat in a Mediterranean-type environment\n",
      "1 a-Tetralonyl Glucosides from the Green Walnut Husks of Juglans mandshurica and Their Antiproliferative Effects\n",
      "2 b-Aminobutyric acid increases abscisic acid accumulation and desiccation tolerance and decreases water use but fails to improve grain yield in two spring wheat cultivars under soil drying\n",
      "3 b-glucan content in a panel of Triticum and Aegilops genotypes\n"
     ]
    }
   ],
   "source": [
    "namemissing = data2[data2['Article Title'] == '#NAME?']\n",
    "dois = namemissing['DOI']\n",
    "for i in range(len(dois)):\n",
    "    title = data[data['DOI'] == dois.iloc[i]]['Article Title'].values[0]\n",
    "    data2.loc[dois.index[i], 'Article Title'] = title\n",
    "    print(i, title)"
   ]
  },
  {
   "cell_type": "code",
   "execution_count": 5,
   "id": "conditional-framing",
   "metadata": {},
   "outputs": [],
   "source": [
    "DOI = data['DOI']\n",
    "DOI2 = data2['DOI']\n",
    "\n",
    "for i in range(len(DOI)):\n",
    "    doi = DOI.iloc[i]\n",
    "    doi2 = DOI2.iloc[i]\n",
    "    if not pd.isnull(doi):\n",
    "        if doi != doi2:\n",
    "            print('lol')\n",
    "            break"
   ]
  },
  {
   "cell_type": "code",
   "execution_count": 6,
   "id": "joint-terrain",
   "metadata": {},
   "outputs": [],
   "source": [
    "fields = ['Author Full Names', 'Article Title', 'Author Keywords', 'Keywords Plus', 'Abstract']\n",
    "for field in fields:\n",
    "    data[field] = data2[field]"
   ]
  },
  {
   "cell_type": "code",
   "execution_count": 7,
   "id": "julian-ecology",
   "metadata": {},
   "outputs": [
    {
     "name": "stdout",
     "output_type": "stream",
     "text": [
      "(292434, 36)\n"
     ]
    }
   ],
   "source": [
    "print(data.shape)"
   ]
  },
  {
   "cell_type": "code",
   "execution_count": 149,
   "id": "soviet-privacy",
   "metadata": {},
   "outputs": [
    {
     "name": "stdout",
     "output_type": "stream",
     "text": [
      "(296734, 67)\n"
     ]
    }
   ],
   "source": [
    "columns = list(data.columns)\n",
    "subcolumns = columns[:1] + columns[2:6] + ['DOI']\n",
    "nsubcolumns = [columns[1]] + columns[6:29] + columns[30:]\n",
    "\n",
    "merge = data.merge(data2, how='outer', on=subcolumns, indicator=True).copy()\n",
    "lidx = merge[merge['_merge'] == 'left_only'].index\n",
    "print(merge.shape)"
   ]
  },
  {
   "cell_type": "code",
   "execution_count": 150,
   "id": "municipal-minister",
   "metadata": {},
   "outputs": [
    {
     "name": "stdout",
     "output_type": "stream",
     "text": [
      "both\t(296718, 67)\n",
      "left_only\t(8, 67)\n",
      "right_only\t(8, 67)\n"
     ]
    }
   ],
   "source": [
    "for xx in ['both', 'left_only', 'right_only']:\n",
    "    foo = merge[merge['_merge'] == xx]\n",
    "    print(xx, foo.shape, sep='\\t')"
   ]
  },
  {
   "cell_type": "code",
   "execution_count": 151,
   "id": "mexican-notion",
   "metadata": {},
   "outputs": [
    {
     "data": {
      "text/plain": [
       "Int64Index([6057, 21599, 22571, 40869, 60426, 221360, 246850, 290771], dtype='int64')"
      ]
     },
     "execution_count": 151,
     "metadata": {},
     "output_type": "execute_result"
    }
   ],
   "source": [
    "left = merge[merge['_merge'] == 'left_only']\n",
    "left.index"
   ]
  },
  {
   "cell_type": "code",
   "execution_count": 166,
   "id": "musical-marketing",
   "metadata": {},
   "outputs": [
    {
     "name": "stdout",
     "output_type": "stream",
     "text": [
      "Int64Index([286565], dtype='int64')\n",
      "Int64Index([286543], dtype='int64')\n",
      "\n",
      "\n",
      "Author Full Names\n",
      "Lee, Sais-Beul; Kim, Namgyu; Jo, Sumin; Hur, Yeon-Jae; Lee, Ji-Youn; Cho, Jun-Hyeon; Lee, Jong-Hee; Kang, Ju-Won; Song, You-Chun; Bombay, Maurene; Kim, Sung-Ryul; Lee, Jungkwan; Seo, Young-Su; Ko, Jong-Min; Park, Dong-Soo\n",
      "Lee, Sais-Beul; Kim, Namgyu; Jo, Sumin; Hur, Yeon-Jae; Lee, Ji-Youn; Cho, Jun-Hyeon; Lee, Jong-Hee; Kang, Ju-Won; Song, You-Chun; Mumbai, Maurene; Kim, Sung-Ryul; Lee, Jungkwan; Seo, Young-Su; Ko, Jong-Min; Park, Dong-Soo\n",
      "False\n",
      "-----\n",
      "\n",
      "Journal\n",
      "PLANTS-BASEL\n",
      "PLANTS-BASEL\n",
      "True\n",
      "-----\n",
      "\n",
      "impact factor (2020)\n",
      "3.935\n",
      "3.935\n",
      "True\n",
      "-----\n",
      "\n",
      "Author Keywords\n",
      "Oryza sativa L; bakanae disease; Gibberella fujikuroi; QTL mapping-qBK1(Z)\n",
      "Oryza sativa L; bakanae disease; Gibberella fujikuroi; QTL mapping-qBK1(Z)\n",
      "True\n",
      "-----\n",
      "\n",
      "Keywords Plus\n",
      "nan\n",
      "nan\n",
      "False\n",
      "-----\n",
      "\n",
      "DOI\n",
      "10.3390/plants10030434\n",
      "10.3390/plants10030434\n",
      "True\n",
      "-----\n",
      "\n"
     ]
    }
   ],
   "source": [
    "i = 290771\n",
    "j = -1\n",
    "#for j in range(len(subcolumns)):\n",
    "field = subcolumns[j]\n",
    "title = merge.loc[i, field]\n",
    "foo = data[data[field] == title]\n",
    "bar = data2[data2[field] == title]\n",
    "print(foo.index, bar.index, '\\n', sep='\\n')\n",
    "if len(bar) > 0:\n",
    "    for field in subcolumns:\n",
    "        print(field, foo[field].values[0], bar[field].values[0], foo[field].values[0] == bar[field].values[0], '-----\\n', sep='\\n')"
   ]
  },
  {
   "cell_type": "code",
   "execution_count": 58,
   "id": "completed-syndicate",
   "metadata": {},
   "outputs": [
    {
     "name": "stdout",
     "output_type": "stream",
     "text": [
      "(296425, 52)\n"
     ]
    }
   ],
   "source": [
    "file2 = '../data/Plt_sci_publications_missing_records_2009_8.2.22.csv'\n",
    "file2 = '../data/Plt_sci_publications_with_inferred_gender_and_journal_info_7.18.csv'\n",
    "file2 = '../data/Plt_sci_publications_complete_set_with_gender_and_GDP_8.4.22.csv'\n",
    "#file2 = '../data/foo.csv'\n",
    "data2 = pd.read_csv(file2, index_col=False, usecols=range(52))\n",
    "data2 = data2.drop_duplicates(ignore_index=True)\n",
    "data2 = data2.drop_duplicates(subset=list(data.columns[:3]) + ['DOI'])\n",
    "print(data2.shape)"
   ]
  },
  {
   "cell_type": "code",
   "execution_count": 59,
   "id": "monetary-merchant",
   "metadata": {},
   "outputs": [
    {
     "data": {
      "text/plain": [
       "['#_samples_gender_inference',\n",
       " 'Corresponding_author_last_name',\n",
       " 'First_names_currated',\n",
       " 'First_names_extracted',\n",
       " 'GDP_2020',\n",
       " 'Journal location',\n",
       " 'Name of the society',\n",
       " 'Open Access options available',\n",
       " 'Open access fees (USD)',\n",
       " 'Per_capita_income_2020',\n",
       " 'Quartile',\n",
       " 'Society (Yes or No)',\n",
       " 'Subspecality (JCR)',\n",
       " 'first and last names',\n",
       " 'gender_inference_accuracy',\n",
       " 'inferred_gender']"
      ]
     },
     "execution_count": 59,
     "metadata": {},
     "output_type": "execute_result"
    }
   ],
   "source": [
    "cols = set(data.columns)\n",
    "col2 = set(data2.columns)\n",
    "col2 = sorted(list(col2 - cols))\n",
    "col2"
   ]
  },
  {
   "cell_type": "code",
   "execution_count": 60,
   "id": "closing-fundamentals",
   "metadata": {},
   "outputs": [
    {
     "name": "stdout",
     "output_type": "stream",
     "text": [
      "0 Epidemiology of Wheat streak mosaic virus in wheat in a Mediterranean-type environment\n",
      "1 a-Tetralonyl Glucosides from the Green Walnut Husks of Juglans mandshurica and Their Antiproliferative Effects\n",
      "2 b-Aminobutyric acid increases abscisic acid accumulation and desiccation tolerance and decreases water use but fails to improve grain yield in two spring wheat cultivars under soil drying\n",
      "3 b-glucan content in a panel of Triticum and Aegilops genotypes\n"
     ]
    }
   ],
   "source": [
    "namemissing = data2[data2['Article Title'] == '#NAME?']\n",
    "dois = namemissing['DOI']\n",
    "for i in range(len(dois)):\n",
    "    title = data[data['DOI'] == dois.iloc[i]]['Article Title'].values[0]\n",
    "    data2.loc[dois.index[i], 'Article Title'] = title\n",
    "    print(i, title)"
   ]
  },
  {
   "cell_type": "code",
   "execution_count": 62,
   "id": "tired-signature",
   "metadata": {
    "scrolled": true
   },
   "outputs": [
    {
     "name": "stdout",
     "output_type": "stream",
     "text": [
      "(296447, 82)\n"
     ]
    }
   ],
   "source": [
    "columns = list(data.columns)\n",
    "subcolumns = columns[:6] + ['DOI']\n",
    "nsubcolumns = columns[6:29] + columns[30:]\n",
    "\n",
    "merge = data.merge(data2, how='outer', on=subcolumns, indicator=True).copy()\n",
    "lidx = merge[merge['_merge'] == 'left_only'].index\n",
    "print(merge.shape)"
   ]
  },
  {
   "cell_type": "code",
   "execution_count": 63,
   "id": "agreed-moment",
   "metadata": {},
   "outputs": [
    {
     "name": "stdout",
     "output_type": "stream",
     "text": [
      "both\t(292412, 82)\n",
      "left_only\t(22, 82)\n",
      "right_only\t(4013, 82)\n"
     ]
    }
   ],
   "source": [
    "for xx in ['both', 'left_only', 'right_only']:\n",
    "    foo = merge[merge['_merge'] == xx]\n",
    "    print(xx, foo.shape, sep='\\t')"
   ]
  },
  {
   "cell_type": "markdown",
   "id": "presidential-genius",
   "metadata": {},
   "source": [
    "```\n",
    "both\t(292412, 81)\n",
    "left_only\t(22, 81)\n",
    "right_only\t(4013, 81)\n",
    "```"
   ]
  },
  {
   "cell_type": "code",
   "execution_count": 65,
   "id": "collective-landing",
   "metadata": {
    "scrolled": true
   },
   "outputs": [
    {
     "data": {
      "text/plain": [
       "Int64Index([  7844,   7845,   7846,  37033,  37034,  37035,  37036,  49525,\n",
       "             90837,  90838,  90839, 115424, 119704, 176928, 176929, 176930,\n",
       "            176931, 176932, 180456, 192843, 192844, 192845],\n",
       "           dtype='int64')"
      ]
     },
     "execution_count": 65,
     "metadata": {},
     "output_type": "execute_result"
    }
   ],
   "source": [
    "left = merge[merge['_merge'] == 'left_only']\n",
    "left.index"
   ]
  },
  {
   "cell_type": "code",
   "execution_count": 66,
   "id": "noble-monitoring",
   "metadata": {},
   "outputs": [
    {
     "name": "stdout",
     "output_type": "stream",
     "text": [
      "Int64Index([235854], dtype='int64')\n",
      "Int64Index([235832], dtype='int64')\n",
      "\n",
      "\n",
      "Author Full Names\n",
      "Bhatia, Harpreet; Sharma, Yash Pal; Manhas, R. K.; Kumar, Kewal\n",
      "Bhatia, Harpreet; Sharma, Yash Pal; Manhas, R. K.; Kumar, Kewal\n",
      "True\n",
      "-----\n",
      "\n",
      "Article Title\n",
      "Traditional phytoremedies for the treatment of menstrual disorders in district Udhampur, J&K, India\n",
      "Traditional phytoremedies for the treatment of menstrual disorders in district Udhampur, J&K, India\n",
      "True\n",
      "-----\n",
      "\n",
      "Journal\n",
      "JOURNAL OF ETHNOPHARMACOLOGY\n",
      "JOURNAL OF ETHNOPHARMACOLOGY\n",
      "True\n",
      "-----\n",
      "\n",
      "impact factor (2020)\n",
      "4.36\n",
      "4.36\n",
      "True\n",
      "-----\n",
      "\n",
      "Author Keywords\n",
      "Ethnobotany; Ethnogynecological problems; Menstrual disorders; Phytoremedies; Traditional plant knowledge; Udhampur district\n",
      "Ethnobotany; Ethnogynecological problems; Menstrual disorders; Phytoremedies; Traditional plant knowledge; Udhampur district\n",
      "True\n",
      "-----\n",
      "\n",
      "Keywords Plus\n",
      "MEDICINAL-PLANTS; KNOWLEDGE; DISEASES; TRIBES; STATE\n",
      "MEDICINAL-PLANTS; KNOWLEDGE; DISEASES; TRIBES; STATE\n",
      "True\n",
      "-----\n",
      "\n",
      "DOI\n",
      "10.1016/j.jep.2014.11.041\n",
      "10.1016/j.jep.2014.11.041\n",
      "True\n",
      "-----\n",
      "\n"
     ]
    }
   ],
   "source": [
    "i = 235780\n",
    "j = -1\n",
    "field = subcolumns[j]\n",
    "title = merge.loc[i, field]\n",
    "foo = data[data[field] == title]\n",
    "bar = data2[data2[field] == title]\n",
    "print(foo.index, bar.index, '\\n', sep='\\n')\n",
    "if len(bar) > 0:\n",
    "    for field in subcolumns:\n",
    "        print(field, foo[field].values[0], bar[field].values[0], foo[field].values[0] == bar[field].values[0], '-----\\n', sep='\\n')"
   ]
  },
  {
   "cell_type": "code",
   "execution_count": 67,
   "id": "plain-trick",
   "metadata": {},
   "outputs": [],
   "source": [
    "for c in nsubcolumns:\n",
    "    colnamex = c + '_x'\n",
    "    colnamey = c + '_y'\n",
    "    merge.loc[merge['_merge'] == 'left_only', colnamey] = merge.loc[merge['_merge'] == 'left_only', colnamex]"
   ]
  },
  {
   "cell_type": "code",
   "execution_count": null,
   "id": "private-boutique",
   "metadata": {},
   "outputs": [],
   "source": [
    "# Check whether there are entries s.t. they have _x values but no _y values\n",
    "left = merge[merge['_merge'] == 'left_only'].copy()\n",
    "print(left.shape)\n",
    "leftidx = set(left.index)\n",
    "\n",
    "for c in nsubcolumns:\n",
    "    colnamex = c + '_x'\n",
    "    colnamey = c + '_y'\n",
    "    \n",
    "    foo = merge[~pd.isnull(merge[colnamex])]\n",
    "    fidx = set(foo[pd.isnull(merge[colnamey])].index)\n",
    "    \n",
    "    print(c, '\\t', fidx.issubset(leftidx))\n",
    "    \n",
    "# Turns out that the only such entries are within the `left_only` dataframe"
   ]
  },
  {
   "cell_type": "code",
   "execution_count": 71,
   "id": "hispanic-brief",
   "metadata": {},
   "outputs": [
    {
     "name": "stdout",
     "output_type": "stream",
     "text": [
      "(296447, 75)\n",
      "(296447, 53)\n"
     ]
    }
   ],
   "source": [
    "plft = ['Addresses--all authors','Nations--all authors','Corresponding author Addresses', 'Abstract',\n",
    "        'Corresponding author Nation','Corresponding author Continent','Corresponding author global designation']\n",
    "\n",
    "for c in plft:\n",
    "    colnamex = c + '_x'\n",
    "    colnamey = c + '_y'\n",
    "    merge.loc[merge['_merge'] == 'right_only', colnamex] = merge.loc[merge['_merge'] == 'right_only', colnamey]\n",
    "\n",
    "merge = merge.drop([x+'_y' for x in plft], 'columns').rename(columns=dict(zip([x+'_x' for x in plft], plft)))\n",
    "print(merge.shape)\n",
    "\n",
    "prgt = nsubcolumns[7:]\n",
    "\n",
    "merge = merge.drop([x+'_x' for x in prgt], 'columns').rename(columns=dict(zip([x+'_y' for x in prgt], prgt)))\n",
    "print(merge.shape)"
   ]
  },
  {
   "cell_type": "code",
   "execution_count": 75,
   "id": "emerging-hanging",
   "metadata": {},
   "outputs": [
    {
     "data": {
      "text/plain": [
       "'The present study investigated phenolic compounds and enzymes involved in female fertility in banana plants of the Cavendish subgroup. The wild diploid Calcutta 4 and commercial cultivar Grand Naine (Cavendish subgroup) were used. The following five stages of floral development were proposed: S1 (partial vertical emission), S2 (total vertical emission), S3 (total horizontal emission), S4 (pre-anthesis), and S5 (anthesis). Following collection, pistillate (female) flowers were freeze-dried for the subsequent removal of nectaries and the analysis of phenolic compounds (PCs), antioxidant activity (DPPH and ABTS), enzymatic activity [peroxidase (POD) and polyphenol oxidase (PPO)], and total proteins (TPs). The highest values were recorded at the S3 stage, with the values decreasing as the stages progressed (until S5). At the S3 stage, the following results were obtained for Calcutta 4 and Grand Naine, respectively: PCs (32.4 and 36.1 mg GAE center dot g(-1)); DPPH (735.2 and 454.4 mu M TE center dot g(-1)); ABTS (647.8 and 555.5 mu M TE center dot g(-1)); POD (0.8 and 0.7 mu mol center dot min(-1)center dot g(-1)); PPO (3.7 and 2.7 mu mol center dot min(-1)center dot g(-1)); and TP (3.2 and 2.4 mu mol center dot min(-1)center dot g(-1)). These results indicate that PCs and enzymes regulate female fertility, suggesting that crossbreeding should be performed from the S3 stage in cultivars of the Cavendish subgroup to achieve fruits with seeds.'"
      ]
     },
     "execution_count": 75,
     "metadata": {},
     "output_type": "execute_result"
    }
   ],
   "source": [
    "auth = 'dos Santos Silva, Manasses; da Hora Goes, Naiala; dos Santos-Serejo, Janay Almeida; Ferreira, Claudia Fortes; Amorim, Edson Perito'\n",
    "merge[merge['Author Full Names'] == auth]['Abstract'].values[0]"
   ]
  },
  {
   "cell_type": "code",
   "execution_count": 72,
   "id": "exempt-porter",
   "metadata": {
    "scrolled": true
   },
   "outputs": [
    {
     "ename": "ValueError",
     "evalue": "Unable to parse string \"2,010\" at position 19919",
     "output_type": "error",
     "traceback": [
      "\u001b[0;31m---------------------------------------------------------------------------\u001b[0m",
      "\u001b[0;31mValueError\u001b[0m                                Traceback (most recent call last)",
      "\u001b[0;32mpandas/_libs/lib.pyx\u001b[0m in \u001b[0;36mpandas._libs.lib.maybe_convert_numeric\u001b[0;34m()\u001b[0m\n",
      "\u001b[0;31mValueError\u001b[0m: Unable to parse string \"2,010\"",
      "\nDuring handling of the above exception, another exception occurred:\n",
      "\u001b[0;31mValueError\u001b[0m                                Traceback (most recent call last)",
      "\u001b[0;32m<ipython-input-72-ea8c287b9fb7>\u001b[0m in \u001b[0;36m<module>\u001b[0;34m\u001b[0m\n\u001b[1;32m      1\u001b[0m \u001b[0mtoint\u001b[0m \u001b[0;34m=\u001b[0m \u001b[0;34m[\u001b[0m\u001b[0;34m'Cited Reference Count'\u001b[0m\u001b[0;34m,\u001b[0m \u001b[0;34m'Open access fees (USD)'\u001b[0m\u001b[0;34m,\u001b[0m \u001b[0;34m'Times Cited, All Databases'\u001b[0m\u001b[0;34m,\u001b[0m \u001b[0;34m'Publication Year'\u001b[0m\u001b[0;34m]\u001b[0m\u001b[0;34m\u001b[0m\u001b[0;34m\u001b[0m\u001b[0m\n\u001b[0;32m----> 2\u001b[0;31m \u001b[0mmerge\u001b[0m\u001b[0;34m[\u001b[0m\u001b[0mtoint\u001b[0m\u001b[0;34m]\u001b[0m \u001b[0;34m=\u001b[0m \u001b[0mmerge\u001b[0m\u001b[0;34m[\u001b[0m\u001b[0mtoint\u001b[0m\u001b[0;34m]\u001b[0m\u001b[0;34m.\u001b[0m\u001b[0mapply\u001b[0m\u001b[0;34m(\u001b[0m\u001b[0mpd\u001b[0m\u001b[0;34m.\u001b[0m\u001b[0mto_numeric\u001b[0m\u001b[0;34m,\u001b[0m \u001b[0mdowncast\u001b[0m\u001b[0;34m=\u001b[0m\u001b[0;34m'integer'\u001b[0m\u001b[0;34m)\u001b[0m\u001b[0;34m\u001b[0m\u001b[0;34m\u001b[0m\u001b[0m\n\u001b[0m\u001b[1;32m      3\u001b[0m \u001b[0mmerge\u001b[0m\u001b[0;34m[\u001b[0m\u001b[0;34m'Keywords Plus'\u001b[0m\u001b[0;34m]\u001b[0m \u001b[0;34m=\u001b[0m \u001b[0mmerge\u001b[0m\u001b[0;34m[\u001b[0m\u001b[0;34m'Keywords Plus'\u001b[0m\u001b[0;34m]\u001b[0m\u001b[0;34m.\u001b[0m\u001b[0mstr\u001b[0m\u001b[0;34m.\u001b[0m\u001b[0mupper\u001b[0m\u001b[0;34m(\u001b[0m\u001b[0;34m)\u001b[0m\u001b[0;34m\u001b[0m\u001b[0;34m\u001b[0m\u001b[0m\n\u001b[1;32m      4\u001b[0m \u001b[0mmerge\u001b[0m\u001b[0;34m[\u001b[0m\u001b[0;34m'Journal'\u001b[0m\u001b[0;34m]\u001b[0m \u001b[0;34m=\u001b[0m \u001b[0mmerge\u001b[0m\u001b[0;34m[\u001b[0m\u001b[0;34m'Journal'\u001b[0m\u001b[0;34m]\u001b[0m\u001b[0;34m.\u001b[0m\u001b[0mstr\u001b[0m\u001b[0;34m.\u001b[0m\u001b[0mupper\u001b[0m\u001b[0;34m(\u001b[0m\u001b[0;34m)\u001b[0m\u001b[0;34m\u001b[0m\u001b[0;34m\u001b[0m\u001b[0m\n",
      "\u001b[0;32m~/.local/lib/python3.6/site-packages/pandas/core/frame.py\u001b[0m in \u001b[0;36mapply\u001b[0;34m(self, func, axis, raw, result_type, args, **kwds)\u001b[0m\n\u001b[1;32m   7550\u001b[0m             \u001b[0mkwds\u001b[0m\u001b[0;34m=\u001b[0m\u001b[0mkwds\u001b[0m\u001b[0;34m,\u001b[0m\u001b[0;34m\u001b[0m\u001b[0;34m\u001b[0m\u001b[0m\n\u001b[1;32m   7551\u001b[0m         )\n\u001b[0;32m-> 7552\u001b[0;31m         \u001b[0;32mreturn\u001b[0m \u001b[0mop\u001b[0m\u001b[0;34m.\u001b[0m\u001b[0mget_result\u001b[0m\u001b[0;34m(\u001b[0m\u001b[0;34m)\u001b[0m\u001b[0;34m\u001b[0m\u001b[0;34m\u001b[0m\u001b[0m\n\u001b[0m\u001b[1;32m   7553\u001b[0m \u001b[0;34m\u001b[0m\u001b[0m\n\u001b[1;32m   7554\u001b[0m     \u001b[0;32mdef\u001b[0m \u001b[0mapplymap\u001b[0m\u001b[0;34m(\u001b[0m\u001b[0mself\u001b[0m\u001b[0;34m,\u001b[0m \u001b[0mfunc\u001b[0m\u001b[0;34m)\u001b[0m \u001b[0;34m->\u001b[0m \u001b[0;34m\"DataFrame\"\u001b[0m\u001b[0;34m:\u001b[0m\u001b[0;34m\u001b[0m\u001b[0;34m\u001b[0m\u001b[0m\n",
      "\u001b[0;32m~/.local/lib/python3.6/site-packages/pandas/core/apply.py\u001b[0m in \u001b[0;36mget_result\u001b[0;34m(self)\u001b[0m\n\u001b[1;32m    183\u001b[0m             \u001b[0;32mreturn\u001b[0m \u001b[0mself\u001b[0m\u001b[0;34m.\u001b[0m\u001b[0mapply_raw\u001b[0m\u001b[0;34m(\u001b[0m\u001b[0;34m)\u001b[0m\u001b[0;34m\u001b[0m\u001b[0;34m\u001b[0m\u001b[0m\n\u001b[1;32m    184\u001b[0m \u001b[0;34m\u001b[0m\u001b[0m\n\u001b[0;32m--> 185\u001b[0;31m         \u001b[0;32mreturn\u001b[0m \u001b[0mself\u001b[0m\u001b[0;34m.\u001b[0m\u001b[0mapply_standard\u001b[0m\u001b[0;34m(\u001b[0m\u001b[0;34m)\u001b[0m\u001b[0;34m\u001b[0m\u001b[0;34m\u001b[0m\u001b[0m\n\u001b[0m\u001b[1;32m    186\u001b[0m \u001b[0;34m\u001b[0m\u001b[0m\n\u001b[1;32m    187\u001b[0m     \u001b[0;32mdef\u001b[0m \u001b[0mapply_empty_result\u001b[0m\u001b[0;34m(\u001b[0m\u001b[0mself\u001b[0m\u001b[0;34m)\u001b[0m\u001b[0;34m:\u001b[0m\u001b[0;34m\u001b[0m\u001b[0;34m\u001b[0m\u001b[0m\n",
      "\u001b[0;32m~/.local/lib/python3.6/site-packages/pandas/core/apply.py\u001b[0m in \u001b[0;36mapply_standard\u001b[0;34m(self)\u001b[0m\n\u001b[1;32m    274\u001b[0m \u001b[0;34m\u001b[0m\u001b[0m\n\u001b[1;32m    275\u001b[0m     \u001b[0;32mdef\u001b[0m \u001b[0mapply_standard\u001b[0m\u001b[0;34m(\u001b[0m\u001b[0mself\u001b[0m\u001b[0;34m)\u001b[0m\u001b[0;34m:\u001b[0m\u001b[0;34m\u001b[0m\u001b[0;34m\u001b[0m\u001b[0m\n\u001b[0;32m--> 276\u001b[0;31m         \u001b[0mresults\u001b[0m\u001b[0;34m,\u001b[0m \u001b[0mres_index\u001b[0m \u001b[0;34m=\u001b[0m \u001b[0mself\u001b[0m\u001b[0;34m.\u001b[0m\u001b[0mapply_series_generator\u001b[0m\u001b[0;34m(\u001b[0m\u001b[0;34m)\u001b[0m\u001b[0;34m\u001b[0m\u001b[0;34m\u001b[0m\u001b[0m\n\u001b[0m\u001b[1;32m    277\u001b[0m \u001b[0;34m\u001b[0m\u001b[0m\n\u001b[1;32m    278\u001b[0m         \u001b[0;31m# wrap results\u001b[0m\u001b[0;34m\u001b[0m\u001b[0;34m\u001b[0m\u001b[0;34m\u001b[0m\u001b[0m\n",
      "\u001b[0;32m~/.local/lib/python3.6/site-packages/pandas/core/apply.py\u001b[0m in \u001b[0;36mapply_series_generator\u001b[0;34m(self)\u001b[0m\n\u001b[1;32m    303\u001b[0m                 \u001b[0;32mfor\u001b[0m \u001b[0mi\u001b[0m\u001b[0;34m,\u001b[0m \u001b[0mv\u001b[0m \u001b[0;32min\u001b[0m \u001b[0menumerate\u001b[0m\u001b[0;34m(\u001b[0m\u001b[0mseries_gen\u001b[0m\u001b[0;34m)\u001b[0m\u001b[0;34m:\u001b[0m\u001b[0;34m\u001b[0m\u001b[0;34m\u001b[0m\u001b[0m\n\u001b[1;32m    304\u001b[0m                     \u001b[0;31m# ignore SettingWithCopy here in case the user mutates\u001b[0m\u001b[0;34m\u001b[0m\u001b[0;34m\u001b[0m\u001b[0;34m\u001b[0m\u001b[0m\n\u001b[0;32m--> 305\u001b[0;31m                     \u001b[0mresults\u001b[0m\u001b[0;34m[\u001b[0m\u001b[0mi\u001b[0m\u001b[0;34m]\u001b[0m \u001b[0;34m=\u001b[0m \u001b[0mself\u001b[0m\u001b[0;34m.\u001b[0m\u001b[0mf\u001b[0m\u001b[0;34m(\u001b[0m\u001b[0mv\u001b[0m\u001b[0;34m)\u001b[0m\u001b[0;34m\u001b[0m\u001b[0;34m\u001b[0m\u001b[0m\n\u001b[0m\u001b[1;32m    306\u001b[0m                     \u001b[0;32mif\u001b[0m \u001b[0misinstance\u001b[0m\u001b[0;34m(\u001b[0m\u001b[0mresults\u001b[0m\u001b[0;34m[\u001b[0m\u001b[0mi\u001b[0m\u001b[0;34m]\u001b[0m\u001b[0;34m,\u001b[0m \u001b[0mABCSeries\u001b[0m\u001b[0;34m)\u001b[0m\u001b[0;34m:\u001b[0m\u001b[0;34m\u001b[0m\u001b[0;34m\u001b[0m\u001b[0m\n\u001b[1;32m    307\u001b[0m                         \u001b[0;31m# If we have a view on v, we need to make a copy because\u001b[0m\u001b[0;34m\u001b[0m\u001b[0;34m\u001b[0m\u001b[0;34m\u001b[0m\u001b[0m\n",
      "\u001b[0;32m~/.local/lib/python3.6/site-packages/pandas/core/apply.py\u001b[0m in \u001b[0;36mf\u001b[0;34m(x)\u001b[0m\n\u001b[1;32m    112\u001b[0m \u001b[0;34m\u001b[0m\u001b[0m\n\u001b[1;32m    113\u001b[0m             \u001b[0;32mdef\u001b[0m \u001b[0mf\u001b[0m\u001b[0;34m(\u001b[0m\u001b[0mx\u001b[0m\u001b[0;34m)\u001b[0m\u001b[0;34m:\u001b[0m\u001b[0;34m\u001b[0m\u001b[0;34m\u001b[0m\u001b[0m\n\u001b[0;32m--> 114\u001b[0;31m                 \u001b[0;32mreturn\u001b[0m \u001b[0mfunc\u001b[0m\u001b[0;34m(\u001b[0m\u001b[0mx\u001b[0m\u001b[0;34m,\u001b[0m \u001b[0;34m*\u001b[0m\u001b[0margs\u001b[0m\u001b[0;34m,\u001b[0m \u001b[0;34m**\u001b[0m\u001b[0mkwds\u001b[0m\u001b[0;34m)\u001b[0m\u001b[0;34m\u001b[0m\u001b[0;34m\u001b[0m\u001b[0m\n\u001b[0m\u001b[1;32m    115\u001b[0m \u001b[0;34m\u001b[0m\u001b[0m\n\u001b[1;32m    116\u001b[0m         \u001b[0;32melse\u001b[0m\u001b[0;34m:\u001b[0m\u001b[0;34m\u001b[0m\u001b[0;34m\u001b[0m\u001b[0m\n",
      "\u001b[0;32m~/.local/lib/python3.6/site-packages/pandas/core/tools/numeric.py\u001b[0m in \u001b[0;36mto_numeric\u001b[0;34m(arg, errors, downcast)\u001b[0m\n\u001b[1;32m    151\u001b[0m         \u001b[0;32mtry\u001b[0m\u001b[0;34m:\u001b[0m\u001b[0;34m\u001b[0m\u001b[0;34m\u001b[0m\u001b[0m\n\u001b[1;32m    152\u001b[0m             values = lib.maybe_convert_numeric(\n\u001b[0;32m--> 153\u001b[0;31m                 \u001b[0mvalues\u001b[0m\u001b[0;34m,\u001b[0m \u001b[0mset\u001b[0m\u001b[0;34m(\u001b[0m\u001b[0;34m)\u001b[0m\u001b[0;34m,\u001b[0m \u001b[0mcoerce_numeric\u001b[0m\u001b[0;34m=\u001b[0m\u001b[0mcoerce_numeric\u001b[0m\u001b[0;34m\u001b[0m\u001b[0;34m\u001b[0m\u001b[0m\n\u001b[0m\u001b[1;32m    154\u001b[0m             )\n\u001b[1;32m    155\u001b[0m         \u001b[0;32mexcept\u001b[0m \u001b[0;34m(\u001b[0m\u001b[0mValueError\u001b[0m\u001b[0;34m,\u001b[0m \u001b[0mTypeError\u001b[0m\u001b[0;34m)\u001b[0m\u001b[0;34m:\u001b[0m\u001b[0;34m\u001b[0m\u001b[0;34m\u001b[0m\u001b[0m\n",
      "\u001b[0;32mpandas/_libs/lib.pyx\u001b[0m in \u001b[0;36mpandas._libs.lib.maybe_convert_numeric\u001b[0;34m()\u001b[0m\n",
      "\u001b[0;31mValueError\u001b[0m: Unable to parse string \"2,010\" at position 19919"
     ]
    }
   ],
   "source": [
    "toint = ['Cited Reference Count', 'Open access fees (USD)', 'Times Cited, All Databases', 'Publication Year']\n",
    "merge[toint] = merge[toint].apply(pd.to_numeric, downcast='integer')\n",
    "merge['Keywords Plus'] = merge['Keywords Plus'].str.upper()\n",
    "merge['Journal'] = merge['Journal'].str.upper()"
   ]
  },
  {
   "cell_type": "code",
   "execution_count": 15,
   "id": "gentle-turning",
   "metadata": {},
   "outputs": [],
   "source": [
    "jnansoc = [\n",
    "    'AUSTRALIAN JOURNAL OF BOTANY',\n",
    "    'BIOLOGIA PLANTARUM', \n",
    "    'BOTANICAL JOURNAL OF THE LINNEAN SOCIETY', \n",
    "    'BOTANICAL STUDIES', \n",
    "    'EUPHYTICA', \n",
    "    'EUROPEAN JOURNAL OF TAXONOMY', \n",
    "    'FUNCTIONAL PLANT BIOLOGY', \n",
    "    'GENETIC RESOURCES AND CROP EVOLUTION', \n",
    "    'HORTICULTURE RESEARCH', \n",
    "    'JOURNAL OF APPLIED BOTANY AND FOOD QUALITY', \n",
    "    'JOURNAL OF APPLIED RESEARCH ON MEDICINAL AND AROMATIC PLANTS', \n",
    "    'JOURNAL OF ESSENTIAL OIL BEARING PLANTS', \n",
    "    'JOURNAL OF PHYTOPATHOLOGY',\n",
    "    'JOURNAL OF PLANT BIOCHEMISTRY AND BIOTECHNOLOGY', \n",
    "    'JOURNAL OF PLANT GROWTH REGULATION', \n",
    "    'JOURNAL OF PLANT NUTRITION', \n",
    "    'JOURNAL OF PLANT PATHOLOGY', \n",
    "    'JOURNAL OF PLANT RESEARCH', \n",
    "    'MOLECULAR BREEDING', \n",
    "    'PERSPECTIVES IN PLANT ECOLOGY EVOLUTION AND SYSTEMATICS', \n",
    "    'PHOTOSYNTHETICA', \n",
    "    'PHYTOCHEMISTRY LETTERS', \n",
    "    'PLANT AND SOIL', \n",
    "    'PLANT ECOLOGY', \n",
    "    'PLANT FOODS FOR HUMAN NUTRITION',\n",
    "    'PLANT GENOME', \n",
    "    'PLANT GROWTH REGULATION', \n",
    "    'PLANT SYSTEMATICS AND EVOLUTION', \n",
    "    'PLANTS-BASEL', \n",
    "    'RECORDS OF NATURAL PRODUCTS', \n",
    "    'RHIZOSPHERE', \n",
    "    'TROPICAL PLANT BIOLOGY', \n",
    "    'TURKISH JOURNAL OF BOTANY', \n",
    "    'WEED TECHNOLOGY'\n",
    "]\n",
    "nansoc = [\n",
    "    'No',\n",
    "    'Yes',\n",
    "    'No',\n",
    "    'Yes',\n",
    "    'No',\n",
    "    'No',\n",
    "    'Yes',\n",
    "    'No',\n",
    "    'No',\n",
    "    'Yes',\n",
    "    'No',\n",
    "    'No',\n",
    "    'No',\n",
    "    'No',\n",
    "    'No',\n",
    "    'No',\n",
    "    'Yes',\n",
    "    'Yes',\n",
    "    'Yes',\n",
    "    'No',\n",
    "    'Yes',\n",
    "    'Yes',\n",
    "    'No',\n",
    "    'No',\n",
    "    'No',\n",
    "    'Yes',\n",
    "    'No',\n",
    "    'No',\n",
    "    'No',\n",
    "    'No',\n",
    "    'No',\n",
    "    'No',\n",
    "    'No',\n",
    "    'Yes'\n",
    "]\n",
    "snansoc = [\n",
    "    '',\n",
    "    'Czech academy of agricultural sciences',\n",
    "    '',\n",
    "    'Institute of Plant and Microbial Biology',\n",
    "    '',\n",
    "    '',\n",
    "    'Australian Society of Plant Scientists',\n",
    "    '',\n",
    "    '',\n",
    "    'German Society for Quality Research on Plant Foods',\n",
    "    '',\n",
    "    '',\n",
    "    '',\n",
    "    '',\n",
    "    '',\n",
    "    '',\n",
    "    'The Italian Phytopathological Society',\n",
    "    'The Botanical Society of Japan',\n",
    "    'National key Laboratory of Crop Genetic Improvement, HZAU',\n",
    "    '',\n",
    "    'Czech academy of agricultural sciences',\n",
    "    'Phytochemical Society of Europe',\n",
    "    '',\n",
    "    '',\n",
    "    '',\n",
    "    'Crop Science Society of America',\n",
    "    '',\n",
    "    '',\n",
    "    '',\n",
    "    '',\n",
    "    '',\n",
    "    '',\n",
    "    '',\n",
    "    'Weed Science Society of America'\n",
    "]"
   ]
  },
  {
   "cell_type": "code",
   "execution_count": null,
   "id": "greek-essence",
   "metadata": {},
   "outputs": [],
   "source": [
    "for i in range(len(snansoc)):\n",
    "    print(i,jnansoc[i],nansoc[i],snansoc[i],sep='\\t')"
   ]
  },
  {
   "cell_type": "code",
   "execution_count": 24,
   "id": "straight-entertainment",
   "metadata": {},
   "outputs": [],
   "source": [
    "#merge.loc[merge['Journal'] == 'AUSTRALIAN JOURNAL OF BOTANY','Society (Yes or No)'] = 'No'\n",
    "for i in range(len(jnansoc)):\n",
    "    jour = jnansoc[i]\n",
    "    jsyn = nansoc[i]\n",
    "    jsoc = snansoc[i]\n",
    "    \n",
    "    merge.loc[merge['Journal'] == jour,'Society (Yes or No)'] = jsyn\n",
    "    if jsyn == 'Yes':\n",
    "        merge.loc[merge['Journal'] == jour, 'Name of the society'] = jsoc"
   ]
  },
  {
   "cell_type": "code",
   "execution_count": 25,
   "id": "molecular-devon",
   "metadata": {
    "scrolled": true
   },
   "outputs": [],
   "source": [
    "mjour = pd.unique(merge['Journal'])\n",
    "mfields = [\n",
    "    'Open access fees (USD)',\n",
    "    'Name of the society',\n",
    "    'Quartile',\n",
    "    'Society (Yes or No)',\n",
    "    'Subspecality (JCR)',\n",
    "    'Open Access options available',\n",
    "    'Journal location',\n",
    "    'Publisher',\n",
    "    'Publisher City',\n",
    "    'Publisher Address',\n",
    "    'ISSN',\n",
    "    'eISSN'\n",
    "]\n",
    "for jour in mjour:\n",
    "    for year in range(2000,2022,1):\n",
    "        jmask = (merge['Journal'] == jour) & (merge['Publication Year'] == year)\n",
    "        dfj = merge[jmask]\n",
    "        for field in mfields:\n",
    "            mode = dfj[field].mode()\n",
    "            if len(mode) > 0:\n",
    "                mode = mode[0]\n",
    "                merge.loc[jmask, field] = mode"
   ]
  },
  {
   "cell_type": "code",
   "execution_count": 26,
   "id": "sweet-complexity",
   "metadata": {
    "scrolled": false
   },
   "outputs": [
    {
     "name": "stdout",
     "output_type": "stream",
     "text": [
      "Open access fees (USD) \n",
      " ['BRYOLOGIST', 'JOURNAL OF APPLIED BOTANY AND FOOD QUALITY', 'JOURNAL OF APPLIED RESEARCH ON MEDICINAL AND AROMATIC PLANTS', 'JOURNAL OF ESSENTIAL OIL BEARING PLANTS', 'NEW ZEALAND JOURNAL OF BOTANY', 'PLANT PHYSIOLOGY AND BIOCHEMISTRY', 'PLANTA MEDICA', 'RUSSIAN JOURNAL OF PLANT PHYSIOLOGY'] \n",
      "-----------\n",
      "Name of the society \n",
      " ['AGRONOMY-BASEL', 'ANNALS OF BOTANY', 'AUSTRALIAN JOURNAL OF BOTANY', 'BMC PLANT BIOLOGY', 'BOTANICAL JOURNAL OF THE LINNEAN SOCIETY', 'BOTANY', 'CURRENT PLANT BIOLOGY', 'EUPHYTICA', 'EUROPEAN JOURNAL OF PLANT PATHOLOGY', 'EUROPEAN JOURNAL OF TAXONOMY', 'FRONTIERS IN PLANT SCIENCE', 'GENETIC RESOURCES AND CROP EVOLUTION', 'HORTICULTURAL PLANT JOURNAL', 'HORTICULTURE RESEARCH', 'INTERNATIONAL JOURNAL OF PLANT SCIENCES', 'JOURNAL OF APPLIED RESEARCH ON MEDICINAL AND AROMATIC PLANTS', 'JOURNAL OF ESSENTIAL OIL BEARING PLANTS', 'JOURNAL OF PHYTOPATHOLOGY', 'JOURNAL OF PLANT BIOCHEMISTRY AND BIOTECHNOLOGY', 'JOURNAL OF PLANT GROWTH REGULATION', 'JOURNAL OF PLANT INTERACTIONS', 'JOURNAL OF PLANT NUTRITION', 'JOURNAL OF PLANT PHYSIOLOGY', 'MOLECULAR PLANT', 'NATURE PLANTS', 'NEW PHYTOLOGIST', 'PERSPECTIVES IN PLANT ECOLOGY EVOLUTION AND SYSTEMATICS', 'PHYCOLOGIA', 'PHYSIOLOGICAL AND MOLECULAR PLANT PATHOLOGY', 'PHYTOMEDICINE', 'PLANT AND SOIL', 'PLANT BIOTECHNOLOGY', 'PLANT BREEDING', 'PLANT CELL AND ENVIRONMENT', 'PLANT CELL REPORTS', 'PLANT CELL TISSUE AND ORGAN CULTURE', 'PLANT ECOLOGY', 'PLANT FOODS FOR HUMAN NUTRITION', 'PLANT GROWTH REGULATION', 'PLANT METHODS', 'PLANT MOLECULAR BIOLOGY', 'PLANT MOLECULAR BIOLOGY REPORTER', 'PLANT REPRODUCTION', 'PLANT SYSTEMATICS AND EVOLUTION', 'PLANTA', 'PLANTS-BASEL', 'PROTOPLASMA', 'RECORDS OF NATURAL PRODUCTS', 'RHIZOSPHERE', 'RUSSIAN JOURNAL OF PLANT PHYSIOLOGY', 'SCIENTIA HORTICULTURAE', 'SOUTH AFRICAN JOURNAL OF BOTANY', 'TROPICAL PLANT BIOLOGY', 'TURKISH JOURNAL OF BOTANY'] \n",
      "-----------\n",
      "Quartile \n",
      " [] \n",
      "-----------\n",
      "Society (Yes or No) \n",
      " [] \n",
      "-----------\n",
      "Subspecality (JCR) \n",
      " [] \n",
      "-----------\n",
      "Open Access options available \n",
      " [] \n",
      "-----------\n",
      "Journal location \n",
      " [] \n",
      "-----------\n",
      "Publisher \n",
      " [] \n",
      "-----------\n",
      "Publisher City \n",
      " [] \n",
      "-----------\n",
      "Publisher Address \n",
      " [] \n",
      "-----------\n",
      "ISSN \n",
      " ['AGRONOMY-BASEL', 'BOTANICAL STUDIES', 'CURRENT PLANT BIOLOGY', 'EUROPEAN JOURNAL OF TAXONOMY', 'JOURNAL OF APPLIED RESEARCH ON MEDICINAL AND AROMATIC PLANTS', 'PHYTOBIOMES JOURNAL', 'PLANT DIRECT', 'PLANT GENOME', 'PLANT HEALTH PROGRESS', 'PLANT METHODS', 'PLANTS-BASEL', 'RHIZOSPHERE'] \n",
      "-----------\n",
      "eISSN \n",
      " ['AOB PLANTS', 'APPLICATIONS IN PLANT SCIENCES', 'BMC PLANT BIOLOGY', 'EUROPEAN JOURNAL OF TAXONOMY', 'FRONTIERS IN PLANT SCIENCE', 'JOURNAL OF APPLIED BOTANY AND FOOD QUALITY', 'PERSPECTIVES IN PLANT ECOLOGY EVOLUTION AND SYSTEMATICS', 'PHYSIOLOGICAL AND MOLECULAR PLANT PATHOLOGY', 'PHYTOCHEMISTRY REVIEWS', 'PHYTOPATHOLOGIA MEDITERRANEA', 'PLANT BIOTECHNOLOGY', 'RECORDS OF NATURAL PRODUCTS', 'THEORETICAL AND EXPERIMENTAL PLANT PHYSIOLOGY', 'TROPICAL PLANT PATHOLOGY'] \n",
      "-----------\n"
     ]
    }
   ],
   "source": [
    "for field in mfields:\n",
    "    foo = sorted(pd.unique(merge[pd.isnull(merge[field])]['Journal']))\n",
    "    print(field, '\\n', foo, '\\n-----------')"
   ]
  },
  {
   "cell_type": "code",
   "execution_count": 65,
   "id": "vertical-papua",
   "metadata": {},
   "outputs": [],
   "source": [
    "mfields = [\n",
    "    'Open Access simplified',\n",
    "    'Open Access Designations'\n",
    "]\n",
    "for jour in mjour:\n",
    "    for year in range(2000,2022,1):\n",
    "        jmask = (merge['Journal'] == jour) & (merge['Publication Year'] == year)\n",
    "        dfj = merge[jmask]\n",
    "        for field in mfields:\n",
    "            mode = dfj[field].mode()\n",
    "            if len(mode) > 0:\n",
    "                mode = mode[0]\n",
    "                merge.loc[jmask & pd.isnull(merge[field]), field] = mode"
   ]
  },
  {
   "cell_type": "code",
   "execution_count": 69,
   "id": "technological-accordance",
   "metadata": {},
   "outputs": [
    {
     "name": "stdout",
     "output_type": "stream",
     "text": [
      "Open Access simplified \n",
      " ['ACTA PHYSIOLOGIAE PLANTARUM', 'APPLIED VEGETATION SCIENCE', 'AUSTRALASIAN PLANT PATHOLOGY', 'AUSTRALIAN JOURNAL OF BOTANY', 'BIOLOGIA PLANTARUM', 'BOTANICAL JOURNAL OF THE LINNEAN SOCIETY', 'BOTANICAL STUDIES', 'BREEDING SCIENCE', 'EUPHYTICA', 'FUNCTIONAL PLANT BIOLOGY', 'GENETIC RESOURCES AND CROP EVOLUTION', 'JOURNAL OF APPLIED BOTANY AND FOOD QUALITY', 'JOURNAL OF ESSENTIAL OIL BEARING PLANTS', 'JOURNAL OF ETHNOPHARMACOLOGY', 'JOURNAL OF GENERAL PLANT PATHOLOGY', 'JOURNAL OF NATURAL PRODUCTS', 'JOURNAL OF PHYTOPATHOLOGY', 'JOURNAL OF PLANT BIOCHEMISTRY AND BIOTECHNOLOGY', 'JOURNAL OF PLANT BIOLOGY', 'JOURNAL OF PLANT DISEASES AND PROTECTION', 'JOURNAL OF PLANT ECOLOGY', 'JOURNAL OF PLANT GROWTH REGULATION', 'JOURNAL OF PLANT NUTRITION', 'JOURNAL OF PLANT PATHOLOGY', 'JOURNAL OF PLANT RESEARCH', 'PHOTOSYNTHETICA', 'PHYTOCHEMISTRY LETTERS', 'PHYTOPARASITICA', 'PHYTOPATHOLOGIA MEDITERRANEA', 'PLANT AND SOIL', 'PLANT BIOTECHNOLOGY', 'PLANT ECOLOGY', 'PLANT FOODS FOR HUMAN NUTRITION', 'PLANT GROWTH REGULATION', 'PLANT SPECIES BIOLOGY', 'PLANT SYSTEMATICS AND EVOLUTION', 'RECORDS OF NATURAL PRODUCTS', 'WEED TECHNOLOGY'] \n",
      "-----------\n",
      "Open Access Designations \n",
      " ['ACTA AGRICULTURAE SCANDINAVICA SECTION B-SOIL AND PLANT SCIENCE', 'ACTA PHYSIOLOGIAE PLANTARUM', 'APPLIED VEGETATION SCIENCE', 'AUSTRALASIAN PLANT PATHOLOGY', 'AUSTRALIAN JOURNAL OF BOTANY', 'BIOLOGIA PLANTARUM', 'BOTANICAL JOURNAL OF THE LINNEAN SOCIETY', 'BOTANICAL STUDIES', 'BOTANY', 'BREEDING SCIENCE', 'CANADIAN JOURNAL OF PLANT PATHOLOGY', 'EUPHYTICA', 'EUROPEAN JOURNAL OF PHYCOLOGY', 'EUROPEAN JOURNAL OF PLANT PATHOLOGY', 'FUNCTIONAL PLANT BIOLOGY', 'GENETIC RESOURCES AND CROP EVOLUTION', 'JOURNAL OF APPLIED BOTANY AND FOOD QUALITY', 'JOURNAL OF APPLIED RESEARCH ON MEDICINAL AND AROMATIC PLANTS', 'JOURNAL OF BRYOLOGY', 'JOURNAL OF ESSENTIAL OIL BEARING PLANTS', 'JOURNAL OF ETHNOPHARMACOLOGY', 'JOURNAL OF GENERAL PLANT PATHOLOGY', 'JOURNAL OF NATURAL PRODUCTS', 'JOURNAL OF PHYTOPATHOLOGY', 'JOURNAL OF PLANT BIOCHEMISTRY AND BIOTECHNOLOGY', 'JOURNAL OF PLANT BIOLOGY', 'JOURNAL OF PLANT DISEASES AND PROTECTION', 'JOURNAL OF PLANT ECOLOGY', 'JOURNAL OF PLANT GROWTH REGULATION', 'JOURNAL OF PLANT NUTRITION', 'JOURNAL OF PLANT PATHOLOGY', 'JOURNAL OF PLANT RESEARCH', 'MOLECULAR BREEDING', 'MOLECULAR PLANT PATHOLOGY', 'NEW ZEALAND JOURNAL OF BOTANY', 'NEW ZEALAND JOURNAL OF CROP AND HORTICULTURAL SCIENCE', 'PERSPECTIVES IN PLANT ECOLOGY EVOLUTION AND SYSTEMATICS', 'PHOTOSYNTHESIS RESEARCH', 'PHOTOSYNTHETICA', 'PHYCOLOGIA', 'PHYSIOLOGICAL AND MOLECULAR PLANT PATHOLOGY', 'PHYSIOLOGY AND MOLECULAR BIOLOGY OF PLANTS', 'PHYTOCHEMISTRY LETTERS', 'PHYTOCHEMISTRY REVIEWS', 'PHYTOMEDICINE', 'PHYTOPARASITICA', 'PHYTOPATHOLOGIA MEDITERRANEA', 'PLANT AND SOIL', 'PLANT BIOLOGY', 'PLANT BIOSYSTEMS', 'PLANT BIOTECHNOLOGY', 'PLANT CELL REPORTS', 'PLANT CELL TISSUE AND ORGAN CULTURE', 'PLANT ECOLOGY', 'PLANT FOODS FOR HUMAN NUTRITION', 'PLANT GENOME', 'PLANT GROWTH REGULATION', 'PLANT MOLECULAR BIOLOGY', 'PLANT MOLECULAR BIOLOGY REPORTER', 'PLANT PATHOLOGY', 'PLANT PHYSIOLOGY AND BIOCHEMISTRY', 'PLANT REPRODUCTION', 'PLANT SPECIES BIOLOGY', 'PLANT SYSTEMATICS AND EVOLUTION', 'PLANTA MEDICA', 'PROTOPLASMA', 'RECORDS OF NATURAL PRODUCTS', 'RUSSIAN JOURNAL OF PLANT PHYSIOLOGY', 'SCIENTIA HORTICULTURAE', 'SEED SCIENCE RESEARCH', 'TAXON', 'THEORETICAL AND EXPERIMENTAL PLANT PHYSIOLOGY', 'TROPICAL PLANT PATHOLOGY', 'TURKISH JOURNAL OF BOTANY', 'WEED TECHNOLOGY'] \n",
      "-----------\n"
     ]
    }
   ],
   "source": [
    "for field in mfields:\n",
    "    foo = sorted(pd.unique(merge[pd.isnull(merge[field])]['Journal']))\n",
    "    print(field, '\\n', foo, '\\n-----------')"
   ]
  },
  {
   "cell_type": "code",
   "execution_count": 105,
   "id": "subsequent-navigator",
   "metadata": {},
   "outputs": [
    {
     "name": "stdout",
     "output_type": "stream",
     "text": [
      "[ 3400.  2250.    nan  2550.  3085.  3000.  2890.  3500.  3190.  1300.\n",
      "  2010.  3390.  4000.  3255.  1800.  2040.  2750.  3800.  4200.  3280.\n",
      "  2780.  2200.  2950.  1400.  1500.  3170.  1660.  2900.  2940.  3860.\n",
      "  2000.  4030.  3650.  4190.  2320.  2490.  3927.   408.  3290.  3100.\n",
      "  2650.  2660.  4800.  3411.  3708.  4900.  3496. 11720.  2143.  2700.\n",
      "   782.  3564.  2145.   397.   990.     0.  5000.  2085.   870.  3320.\n",
      "   811.  2125.   346.  2189.   750.  2970.  2500.]\n",
      "['Green, Bronze, or Subscription' 'Gold' nan]\n",
      "['Hybrid', 'Open', 'Subscription']\n",
      "['male' 'female' nan 'unknown']\n"
     ]
    }
   ],
   "source": [
    "print(pd.unique(merge['Open access fees (USD)']))\n",
    "print(pd.unique(merge['Open Access simplified']))\n",
    "print(sorted(pd.unique(merge['Open Access options available'])))\n",
    "print(pd.unique(merge['inferred_gender']))"
   ]
  },
  {
   "cell_type": "code",
   "execution_count": 102,
   "id": "institutional-contents",
   "metadata": {
    "scrolled": true
   },
   "outputs": [
    {
     "data": {
      "text/html": [
       "<div>\n",
       "<style scoped>\n",
       "    .dataframe tbody tr th:only-of-type {\n",
       "        vertical-align: middle;\n",
       "    }\n",
       "\n",
       "    .dataframe tbody tr th {\n",
       "        vertical-align: top;\n",
       "    }\n",
       "\n",
       "    .dataframe thead th {\n",
       "        text-align: right;\n",
       "    }\n",
       "</style>\n",
       "<table border=\"1\" class=\"dataframe\">\n",
       "  <thead>\n",
       "    <tr style=\"text-align: right;\">\n",
       "      <th></th>\n",
       "      <th>Author Full Names</th>\n",
       "      <th>Article Title</th>\n",
       "      <th>Journal</th>\n",
       "      <th>impact factor (2020)</th>\n",
       "      <th>Author Keywords</th>\n",
       "      <th>Keywords Plus</th>\n",
       "      <th>Abstract</th>\n",
       "      <th>Addresses--all authors</th>\n",
       "      <th>Nations--all authors</th>\n",
       "      <th>Corresponding author Addresses</th>\n",
       "      <th>...</th>\n",
       "      <th>Corresponding_author_last_name</th>\n",
       "      <th>first and last names</th>\n",
       "      <th>First_names_extracted</th>\n",
       "      <th>First_names_currated</th>\n",
       "      <th>inferred_gender</th>\n",
       "      <th>gender_inference_accuracy</th>\n",
       "      <th>#_samples_gender_inference</th>\n",
       "      <th>Per_capita_income_2020</th>\n",
       "      <th>GDP_2020</th>\n",
       "      <th>_merge</th>\n",
       "    </tr>\n",
       "  </thead>\n",
       "  <tbody>\n",
       "    <tr>\n",
       "      <th>90839</th>\n",
       "      <td>Brown, Adam O.; McNeil, Jeremy N.</td>\n",
       "      <td>Fruit production in cranberry (Ericaceae : Vac...</td>\n",
       "      <td>AMERICAN JOURNAL OF BOTANY</td>\n",
       "      <td>3.844</td>\n",
       "      <td>abortion; Ericaceae; insect; pollination; Queb...</td>\n",
       "      <td>SEED PRODUCTION; LIFE-HISTORY; LEAF REMOVAL; S...</td>\n",
       "      <td>In the cultivated cranberry (Vaccinium macroca...</td>\n",
       "      <td>Univ Laval, Dept Biol, Ste Foy, PQ G1K 7P4, Ca...</td>\n",
       "      <td>NaN</td>\n",
       "      <td>McNeil JN (corresponding author) Univ Laval, D...</td>\n",
       "      <td>...</td>\n",
       "      <td>McNeil</td>\n",
       "      <td>McNeil, Jeremy N.</td>\n",
       "      <td>Jeremy</td>\n",
       "      <td>Jeremy</td>\n",
       "      <td>male</td>\n",
       "      <td>100.0</td>\n",
       "      <td>2059.0</td>\n",
       "      <td>NaN</td>\n",
       "      <td>NaN</td>\n",
       "      <td>left_only</td>\n",
       "    </tr>\n",
       "  </tbody>\n",
       "</table>\n",
       "<p>1 rows × 53 columns</p>\n",
       "</div>"
      ],
      "text/plain": [
       "                       Author Full Names  \\\n",
       "90839  Brown, Adam O.; McNeil, Jeremy N.   \n",
       "\n",
       "                                           Article Title  \\\n",
       "90839  Fruit production in cranberry (Ericaceae : Vac...   \n",
       "\n",
       "                          Journal  impact factor (2020)  \\\n",
       "90839  AMERICAN JOURNAL OF BOTANY                 3.844   \n",
       "\n",
       "                                         Author Keywords  \\\n",
       "90839  abortion; Ericaceae; insect; pollination; Queb...   \n",
       "\n",
       "                                           Keywords Plus  \\\n",
       "90839  SEED PRODUCTION; LIFE-HISTORY; LEAF REMOVAL; S...   \n",
       "\n",
       "                                                Abstract  \\\n",
       "90839  In the cultivated cranberry (Vaccinium macroca...   \n",
       "\n",
       "                                  Addresses--all authors  \\\n",
       "90839  Univ Laval, Dept Biol, Ste Foy, PQ G1K 7P4, Ca...   \n",
       "\n",
       "       Nations--all authors  \\\n",
       "90839                   NaN   \n",
       "\n",
       "                          Corresponding author Addresses  ...  \\\n",
       "90839  McNeil JN (corresponding author) Univ Laval, D...  ...   \n",
       "\n",
       "      Corresponding_author_last_name first and last names  \\\n",
       "90839                         McNeil    McNeil, Jeremy N.   \n",
       "\n",
       "      First_names_extracted First_names_currated inferred_gender  \\\n",
       "90839                Jeremy               Jeremy            male   \n",
       "\n",
       "      gender_inference_accuracy #_samples_gender_inference  \\\n",
       "90839                     100.0                     2059.0   \n",
       "\n",
       "      Per_capita_income_2020 GDP_2020     _merge  \n",
       "90839                    NaN      NaN  left_only  \n",
       "\n",
       "[1 rows x 53 columns]"
      ]
     },
     "execution_count": 102,
     "metadata": {},
     "output_type": "execute_result"
    }
   ],
   "source": [
    "merge[merge['Open Access simplified'] == 'Bronze']"
   ]
  },
  {
   "cell_type": "code",
   "execution_count": 68,
   "id": "robust-financing",
   "metadata": {
    "scrolled": true
   },
   "outputs": [
    {
     "data": {
      "text/html": [
       "<div>\n",
       "<style scoped>\n",
       "    .dataframe tbody tr th:only-of-type {\n",
       "        vertical-align: middle;\n",
       "    }\n",
       "\n",
       "    .dataframe tbody tr th {\n",
       "        vertical-align: top;\n",
       "    }\n",
       "\n",
       "    .dataframe thead th {\n",
       "        text-align: right;\n",
       "    }\n",
       "</style>\n",
       "<table border=\"1\" class=\"dataframe\">\n",
       "  <thead>\n",
       "    <tr style=\"text-align: right;\">\n",
       "      <th></th>\n",
       "      <th>Author Full Names</th>\n",
       "      <th>Article Title</th>\n",
       "      <th>Journal</th>\n",
       "      <th>impact factor (2020)</th>\n",
       "      <th>Author Keywords</th>\n",
       "      <th>Keywords Plus</th>\n",
       "      <th>Abstract</th>\n",
       "      <th>Addresses--all authors</th>\n",
       "      <th>Nations--all authors</th>\n",
       "      <th>Corresponding author Addresses</th>\n",
       "      <th>...</th>\n",
       "      <th>Corresponding_author_last_name</th>\n",
       "      <th>first and last names</th>\n",
       "      <th>First_names_extracted</th>\n",
       "      <th>First_names_currated</th>\n",
       "      <th>inferred_gender</th>\n",
       "      <th>gender_inference_accuracy</th>\n",
       "      <th>#_samples_gender_inference</th>\n",
       "      <th>Per_capita_income_2020</th>\n",
       "      <th>GDP_2020</th>\n",
       "      <th>_merge</th>\n",
       "    </tr>\n",
       "  </thead>\n",
       "  <tbody>\n",
       "    <tr>\n",
       "      <th>87</th>\n",
       "      <td>Camargo, Eduardo Caffagni; Rossi, Raquel Andra...</td>\n",
       "      <td>Comparing pulse amplitude modulated (PAM) fluo...</td>\n",
       "      <td>EUROPEAN JOURNAL OF PHYCOLOGY</td>\n",
       "      <td>0.874</td>\n",
       "      <td>Carbon-14; chlorophyll fluorescence; electron ...</td>\n",
       "      <td>ELECTRON-TRANSPORT; PHOTOSYSTEM-II; C-14 UPTAK...</td>\n",
       "      <td>Integration of pulse amplitude modulated (PAM)...</td>\n",
       "      <td>[Camargo, Eduardo Caffagni; Silva, Jaqueline C...</td>\n",
       "      <td>NaN</td>\n",
       "      <td>Camargo, EC (corresponding author), Univ Fed S...</td>\n",
       "      <td>...</td>\n",
       "      <td>Camargo</td>\n",
       "      <td>['Camargo, Eduardo Caffagni']</td>\n",
       "      <td>Eduardo Caffagni</td>\n",
       "      <td>Eduardo Caffagni</td>\n",
       "      <td>male</td>\n",
       "      <td>100.0</td>\n",
       "      <td>13431.0</td>\n",
       "      <td>14834.193700</td>\n",
       "      <td>1.450000e+12</td>\n",
       "      <td>both</td>\n",
       "    </tr>\n",
       "    <tr>\n",
       "      <th>334</th>\n",
       "      <td>Wadmare, Neha; Baghela, Abhishek; Kociolek, Jo...</td>\n",
       "      <td>Description and phylogenetic position of three...</td>\n",
       "      <td>EUROPEAN JOURNAL OF PHYCOLOGY</td>\n",
       "      <td>0.874</td>\n",
       "      <td>Molecular phylogeny; rbcL; rocky pools; Stauro...</td>\n",
       "      <td>DIATOMS BACILLARIOPHYTA; FRESH; DNA; SELLAPHOR...</td>\n",
       "      <td>Stauroneis Ehrenberg is a species-rich genus t...</td>\n",
       "      <td>[Wadmare, Neha; Baghela, Abhishek; Karthick, B...</td>\n",
       "      <td>NaN</td>\n",
       "      <td>Karthick, B (corresponding author), Agharkar R...</td>\n",
       "      <td>...</td>\n",
       "      <td>Karthick</td>\n",
       "      <td>['Karthick, Balasubramanian']</td>\n",
       "      <td>Balasubramanian</td>\n",
       "      <td>Balasubramanian</td>\n",
       "      <td>male</td>\n",
       "      <td>99.0</td>\n",
       "      <td>320.0</td>\n",
       "      <td>6525.428052</td>\n",
       "      <td>2.670000e+12</td>\n",
       "      <td>both</td>\n",
       "    </tr>\n",
       "    <tr>\n",
       "      <th>476</th>\n",
       "      <td>Melero-Jimenez, Ignacio J.; Martin-Clemente, E...</td>\n",
       "      <td>Dispersal of populations and environmental det...</td>\n",
       "      <td>EUROPEAN JOURNAL OF PHYCOLOGY</td>\n",
       "      <td>0.874</td>\n",
       "      <td>Evolutionary rescue; experimental evolution; m...</td>\n",
       "      <td>NaN</td>\n",
       "      <td>Evolutionary rescue (ER) occurs when adaptatio...</td>\n",
       "      <td>[Melero-Jimenez, Ignacio J.; Martin-Clemente, ...</td>\n",
       "      <td>NaN</td>\n",
       "      <td>Melero-Jimenez, IJ (corresponding author), Uni...</td>\n",
       "      <td>...</td>\n",
       "      <td>Melero-Jimenez</td>\n",
       "      <td>['Melero-Jimenez, Ignacio J.']</td>\n",
       "      <td>Ignacio J.</td>\n",
       "      <td>Ignacio J.</td>\n",
       "      <td>male</td>\n",
       "      <td>100.0</td>\n",
       "      <td>3.0</td>\n",
       "      <td>37756.351000</td>\n",
       "      <td>1.280000e+12</td>\n",
       "      <td>both</td>\n",
       "    </tr>\n",
       "    <tr>\n",
       "      <th>1084</th>\n",
       "      <td>Alvarez, Claudio; Le Quesne, Carlos; Rojas-Bad...</td>\n",
       "      <td>Dendrochronological potential of Prumnopitys a...</td>\n",
       "      <td>NEW ZEALAND JOURNAL OF BOTANY</td>\n",
       "      <td>0.970</td>\n",
       "      <td>Dendroclimatology; dendroecology; Podocarpacea...</td>\n",
       "      <td>NEW-ZEALAND; TREE-RINGS; VARIABILITY; FORESTS;...</td>\n",
       "      <td>Prumnopitys andina is a South American podocar...</td>\n",
       "      <td>[Alvarez, Claudio; Le Quesne, Carlos; Rojas-Ba...</td>\n",
       "      <td>NaN</td>\n",
       "      <td>Alvarez, C (corresponding author), Univ Austra...</td>\n",
       "      <td>...</td>\n",
       "      <td>Alvarez</td>\n",
       "      <td>['Alvarez, Claudio']</td>\n",
       "      <td>Claudio</td>\n",
       "      <td>Claudio</td>\n",
       "      <td>male</td>\n",
       "      <td>99.0</td>\n",
       "      <td>1560.0</td>\n",
       "      <td>25089.031300</td>\n",
       "      <td>2.530000e+11</td>\n",
       "      <td>both</td>\n",
       "    </tr>\n",
       "    <tr>\n",
       "      <th>1094</th>\n",
       "      <td>Aulicino, MB; Arturi, MJ</td>\n",
       "      <td>Phenotypic diversity in Argentinian population...</td>\n",
       "      <td>NEW ZEALAND JOURNAL OF BOTANY</td>\n",
       "      <td>0.970</td>\n",
       "      <td>Bromus catharticus; genetic variation; environ...</td>\n",
       "      <td>FLORAL TRAITS; RAPHANUS-SATIVUS; BREEDING SYST...</td>\n",
       "      <td>Genetic and environmental components were anal...</td>\n",
       "      <td>Natl Univ La Plata, Fac Ciencias Agrarias &amp; Fo...</td>\n",
       "      <td>NaN</td>\n",
       "      <td>Aulicino, MB (corresponding author), Benavidez...</td>\n",
       "      <td>...</td>\n",
       "      <td>Aulicino</td>\n",
       "      <td>['Aulicino, MB']</td>\n",
       "      <td>NaN</td>\n",
       "      <td>NaN</td>\n",
       "      <td>NaN</td>\n",
       "      <td>NaN</td>\n",
       "      <td>NaN</td>\n",
       "      <td>20769.032380</td>\n",
       "      <td>3.900000e+11</td>\n",
       "      <td>both</td>\n",
       "    </tr>\n",
       "    <tr>\n",
       "      <th>...</th>\n",
       "      <td>...</td>\n",
       "      <td>...</td>\n",
       "      <td>...</td>\n",
       "      <td>...</td>\n",
       "      <td>...</td>\n",
       "      <td>...</td>\n",
       "      <td>...</td>\n",
       "      <td>...</td>\n",
       "      <td>...</td>\n",
       "      <td>...</td>\n",
       "      <td>...</td>\n",
       "      <td>...</td>\n",
       "      <td>...</td>\n",
       "      <td>...</td>\n",
       "      <td>...</td>\n",
       "      <td>...</td>\n",
       "      <td>...</td>\n",
       "      <td>...</td>\n",
       "      <td>...</td>\n",
       "      <td>...</td>\n",
       "      <td>...</td>\n",
       "    </tr>\n",
       "    <tr>\n",
       "      <th>296442</th>\n",
       "      <td>Senoussi, Mohammed Mourad; Nora, Bassa; Joel, ...</td>\n",
       "      <td>Impact of hypoxia on the growth and alkaloid a...</td>\n",
       "      <td>ACTA PHYSIOLOGIAE PLANTARUM</td>\n",
       "      <td>2.354</td>\n",
       "      <td>Catharanthus roseus; Ajmalicine; Hypoxia; Cyto...</td>\n",
       "      <td>HIGH-DENSITY CULTURES; AJMALICINE PRODUCTION; ...</td>\n",
       "      <td>The Madagascar periwinkle (Catharanthus roseus...</td>\n",
       "      <td>[Senoussi, Mohammed Mourad; Nora, Bassa] Univ ...</td>\n",
       "      <td>NaN</td>\n",
       "      <td>Senoussi, MM (corresponding author), Univ Larb...</td>\n",
       "      <td>...</td>\n",
       "      <td>Senoussi</td>\n",
       "      <td>['Senoussi, Mohammed Mourad']</td>\n",
       "      <td>Mohammed Mourad</td>\n",
       "      <td>Mohammed Mourad</td>\n",
       "      <td>male</td>\n",
       "      <td>98.0</td>\n",
       "      <td>6999.0</td>\n",
       "      <td>11323.312220</td>\n",
       "      <td>1.450000e+11</td>\n",
       "      <td>right_only</td>\n",
       "    </tr>\n",
       "    <tr>\n",
       "      <th>296443</th>\n",
       "      <td>Boutoumi, Hocine; Moulay, Saad; Khodja, Mohamed</td>\n",
       "      <td>Essential Oil from Ruta montana L. (Rutaceae) ...</td>\n",
       "      <td>JOURNAL OF ESSENTIAL OIL BEARING PLANTS</td>\n",
       "      <td>1.699</td>\n",
       "      <td>German cockroach; Culex pipiens; Ruta montana</td>\n",
       "      <td>TETRANYCHUS-URTICAE KOCH; RESPIRATORY ALLERGY;...</td>\n",
       "      <td>Chromatographic analysis of the essential oil ...</td>\n",
       "      <td>[Moulay, Saad] Univ Saad Dahlab Blida, Dept Ch...</td>\n",
       "      <td>NaN</td>\n",
       "      <td>Moulay, S (corresponding author), Univ Saad Da...</td>\n",
       "      <td>...</td>\n",
       "      <td>Moulay</td>\n",
       "      <td>['Moulay, Saad']</td>\n",
       "      <td>Saad</td>\n",
       "      <td>Saad</td>\n",
       "      <td>male</td>\n",
       "      <td>97.0</td>\n",
       "      <td>414.0</td>\n",
       "      <td>11323.312220</td>\n",
       "      <td>1.450000e+11</td>\n",
       "      <td>right_only</td>\n",
       "    </tr>\n",
       "    <tr>\n",
       "      <th>296444</th>\n",
       "      <td>Seghiri, Ramdane; Boumaza, Ouahiba; Mekkiou, R...</td>\n",
       "      <td>A flavonoid with cytotoxic activity and other ...</td>\n",
       "      <td>PHYTOCHEMISTRY LETTERS</td>\n",
       "      <td>1.679</td>\n",
       "      <td>Centaurea africana; Asteraceae; Acylated flavo...</td>\n",
       "      <td>SESQUITERPENE LACTONES; PHENOLIC-COMPOUNDS; AE...</td>\n",
       "      <td>A new acylated flavonoid glucoside named alger...</td>\n",
       "      <td>[Seghiri, Ramdane; Mekkiou, Ratiba; Benayache,...</td>\n",
       "      <td>NaN</td>\n",
       "      <td>Benayache, F (corresponding author), Univ Ment...</td>\n",
       "      <td>...</td>\n",
       "      <td>Benayache</td>\n",
       "      <td>['Benayache, Samir', 'Benayache, Fadila']</td>\n",
       "      <td>Samir</td>\n",
       "      <td>Samir</td>\n",
       "      <td>male</td>\n",
       "      <td>98.0</td>\n",
       "      <td>9144.0</td>\n",
       "      <td>11323.312220</td>\n",
       "      <td>1.450000e+11</td>\n",
       "      <td>right_only</td>\n",
       "    </tr>\n",
       "    <tr>\n",
       "      <th>296445</th>\n",
       "      <td>Bandou, H.; Rodriguez-Quijano, M.; Carrillo, J...</td>\n",
       "      <td>Morphological and genetic variation in Aegilop...</td>\n",
       "      <td>PLANT SYSTEMATICS AND EVOLUTION</td>\n",
       "      <td>1.631</td>\n",
       "      <td>Aegilops geniculata; Morphology; Diversity; Gl...</td>\n",
       "      <td>NATURAL HYBRIDIZATION; POTENTIAL INTEREST; WHE...</td>\n",
       "      <td>Aegilops geniculata Roth is an annual grass re...</td>\n",
       "      <td>[Bandou, H.] Univ Sci &amp; Technol Houari Boumedi...</td>\n",
       "      <td>NaN</td>\n",
       "      <td>Bandou, H (corresponding author), Univ Sci &amp; T...</td>\n",
       "      <td>...</td>\n",
       "      <td>Bandou</td>\n",
       "      <td>['Bandou, H.']</td>\n",
       "      <td>NaN</td>\n",
       "      <td>NaN</td>\n",
       "      <td>NaN</td>\n",
       "      <td>NaN</td>\n",
       "      <td>NaN</td>\n",
       "      <td>11323.312220</td>\n",
       "      <td>1.450000e+11</td>\n",
       "      <td>right_only</td>\n",
       "    </tr>\n",
       "    <tr>\n",
       "      <th>296446</th>\n",
       "      <td>Nedjimi, Bouzid; Daoud, Youcef</td>\n",
       "      <td>Effects of Calcium Chloride on Growth, Membran...</td>\n",
       "      <td>JOURNAL OF PLANT NUTRITION</td>\n",
       "      <td>1.707</td>\n",
       "      <td>Atriplex halimus; Atriplex canescens; CaCl2; m...</td>\n",
       "      <td>WATER RELATIONS; NUTRIENT-UPTAKE; NACL; PLANTS...</td>\n",
       "      <td>Calcium (Ca) has an important role in plant ph...</td>\n",
       "      <td>[Nedjimi, Bouzid] Ctr Univ Djelfa, Inst Sci Na...</td>\n",
       "      <td>NaN</td>\n",
       "      <td>Nedjimi, B (corresponding author), Ctr Univ Dj...</td>\n",
       "      <td>...</td>\n",
       "      <td>Nedjimi</td>\n",
       "      <td>['Nedjimi, Bouzid']</td>\n",
       "      <td>Bouzid</td>\n",
       "      <td>Bouzid</td>\n",
       "      <td>male</td>\n",
       "      <td>95.0</td>\n",
       "      <td>222.0</td>\n",
       "      <td>11323.312220</td>\n",
       "      <td>1.450000e+11</td>\n",
       "      <td>right_only</td>\n",
       "    </tr>\n",
       "  </tbody>\n",
       "</table>\n",
       "<p>17408 rows × 53 columns</p>\n",
       "</div>"
      ],
      "text/plain": [
       "                                        Author Full Names  \\\n",
       "87      Camargo, Eduardo Caffagni; Rossi, Raquel Andra...   \n",
       "334     Wadmare, Neha; Baghela, Abhishek; Kociolek, Jo...   \n",
       "476     Melero-Jimenez, Ignacio J.; Martin-Clemente, E...   \n",
       "1084    Alvarez, Claudio; Le Quesne, Carlos; Rojas-Bad...   \n",
       "1094                             Aulicino, MB; Arturi, MJ   \n",
       "...                                                   ...   \n",
       "296442  Senoussi, Mohammed Mourad; Nora, Bassa; Joel, ...   \n",
       "296443    Boutoumi, Hocine; Moulay, Saad; Khodja, Mohamed   \n",
       "296444  Seghiri, Ramdane; Boumaza, Ouahiba; Mekkiou, R...   \n",
       "296445  Bandou, H.; Rodriguez-Quijano, M.; Carrillo, J...   \n",
       "296446                     Nedjimi, Bouzid; Daoud, Youcef   \n",
       "\n",
       "                                            Article Title  \\\n",
       "87      Comparing pulse amplitude modulated (PAM) fluo...   \n",
       "334     Description and phylogenetic position of three...   \n",
       "476     Dispersal of populations and environmental det...   \n",
       "1084    Dendrochronological potential of Prumnopitys a...   \n",
       "1094    Phenotypic diversity in Argentinian population...   \n",
       "...                                                   ...   \n",
       "296442  Impact of hypoxia on the growth and alkaloid a...   \n",
       "296443  Essential Oil from Ruta montana L. (Rutaceae) ...   \n",
       "296444  A flavonoid with cytotoxic activity and other ...   \n",
       "296445  Morphological and genetic variation in Aegilop...   \n",
       "296446  Effects of Calcium Chloride on Growth, Membran...   \n",
       "\n",
       "                                        Journal  impact factor (2020)  \\\n",
       "87                EUROPEAN JOURNAL OF PHYCOLOGY                 0.874   \n",
       "334               EUROPEAN JOURNAL OF PHYCOLOGY                 0.874   \n",
       "476               EUROPEAN JOURNAL OF PHYCOLOGY                 0.874   \n",
       "1084              NEW ZEALAND JOURNAL OF BOTANY                 0.970   \n",
       "1094              NEW ZEALAND JOURNAL OF BOTANY                 0.970   \n",
       "...                                         ...                   ...   \n",
       "296442              ACTA PHYSIOLOGIAE PLANTARUM                 2.354   \n",
       "296443  JOURNAL OF ESSENTIAL OIL BEARING PLANTS                 1.699   \n",
       "296444                   PHYTOCHEMISTRY LETTERS                 1.679   \n",
       "296445          PLANT SYSTEMATICS AND EVOLUTION                 1.631   \n",
       "296446               JOURNAL OF PLANT NUTRITION                 1.707   \n",
       "\n",
       "                                          Author Keywords  \\\n",
       "87      Carbon-14; chlorophyll fluorescence; electron ...   \n",
       "334     Molecular phylogeny; rbcL; rocky pools; Stauro...   \n",
       "476     Evolutionary rescue; experimental evolution; m...   \n",
       "1084    Dendroclimatology; dendroecology; Podocarpacea...   \n",
       "1094    Bromus catharticus; genetic variation; environ...   \n",
       "...                                                   ...   \n",
       "296442  Catharanthus roseus; Ajmalicine; Hypoxia; Cyto...   \n",
       "296443      German cockroach; Culex pipiens; Ruta montana   \n",
       "296444  Centaurea africana; Asteraceae; Acylated flavo...   \n",
       "296445  Aegilops geniculata; Morphology; Diversity; Gl...   \n",
       "296446  Atriplex halimus; Atriplex canescens; CaCl2; m...   \n",
       "\n",
       "                                            Keywords Plus  \\\n",
       "87      ELECTRON-TRANSPORT; PHOTOSYSTEM-II; C-14 UPTAK...   \n",
       "334     DIATOMS BACILLARIOPHYTA; FRESH; DNA; SELLAPHOR...   \n",
       "476                                                   NaN   \n",
       "1084    NEW-ZEALAND; TREE-RINGS; VARIABILITY; FORESTS;...   \n",
       "1094    FLORAL TRAITS; RAPHANUS-SATIVUS; BREEDING SYST...   \n",
       "...                                                   ...   \n",
       "296442  HIGH-DENSITY CULTURES; AJMALICINE PRODUCTION; ...   \n",
       "296443  TETRANYCHUS-URTICAE KOCH; RESPIRATORY ALLERGY;...   \n",
       "296444  SESQUITERPENE LACTONES; PHENOLIC-COMPOUNDS; AE...   \n",
       "296445  NATURAL HYBRIDIZATION; POTENTIAL INTEREST; WHE...   \n",
       "296446  WATER RELATIONS; NUTRIENT-UPTAKE; NACL; PLANTS...   \n",
       "\n",
       "                                                 Abstract  \\\n",
       "87      Integration of pulse amplitude modulated (PAM)...   \n",
       "334     Stauroneis Ehrenberg is a species-rich genus t...   \n",
       "476     Evolutionary rescue (ER) occurs when adaptatio...   \n",
       "1084    Prumnopitys andina is a South American podocar...   \n",
       "1094    Genetic and environmental components were anal...   \n",
       "...                                                   ...   \n",
       "296442  The Madagascar periwinkle (Catharanthus roseus...   \n",
       "296443  Chromatographic analysis of the essential oil ...   \n",
       "296444  A new acylated flavonoid glucoside named alger...   \n",
       "296445  Aegilops geniculata Roth is an annual grass re...   \n",
       "296446  Calcium (Ca) has an important role in plant ph...   \n",
       "\n",
       "                                   Addresses--all authors  \\\n",
       "87      [Camargo, Eduardo Caffagni; Silva, Jaqueline C...   \n",
       "334     [Wadmare, Neha; Baghela, Abhishek; Karthick, B...   \n",
       "476     [Melero-Jimenez, Ignacio J.; Martin-Clemente, ...   \n",
       "1084    [Alvarez, Claudio; Le Quesne, Carlos; Rojas-Ba...   \n",
       "1094    Natl Univ La Plata, Fac Ciencias Agrarias & Fo...   \n",
       "...                                                   ...   \n",
       "296442  [Senoussi, Mohammed Mourad; Nora, Bassa] Univ ...   \n",
       "296443  [Moulay, Saad] Univ Saad Dahlab Blida, Dept Ch...   \n",
       "296444  [Seghiri, Ramdane; Mekkiou, Ratiba; Benayache,...   \n",
       "296445  [Bandou, H.] Univ Sci & Technol Houari Boumedi...   \n",
       "296446  [Nedjimi, Bouzid] Ctr Univ Djelfa, Inst Sci Na...   \n",
       "\n",
       "        Nations--all authors  \\\n",
       "87                       NaN   \n",
       "334                      NaN   \n",
       "476                      NaN   \n",
       "1084                     NaN   \n",
       "1094                     NaN   \n",
       "...                      ...   \n",
       "296442                   NaN   \n",
       "296443                   NaN   \n",
       "296444                   NaN   \n",
       "296445                   NaN   \n",
       "296446                   NaN   \n",
       "\n",
       "                           Corresponding author Addresses  ...  \\\n",
       "87      Camargo, EC (corresponding author), Univ Fed S...  ...   \n",
       "334     Karthick, B (corresponding author), Agharkar R...  ...   \n",
       "476     Melero-Jimenez, IJ (corresponding author), Uni...  ...   \n",
       "1084    Alvarez, C (corresponding author), Univ Austra...  ...   \n",
       "1094    Aulicino, MB (corresponding author), Benavidez...  ...   \n",
       "...                                                   ...  ...   \n",
       "296442  Senoussi, MM (corresponding author), Univ Larb...  ...   \n",
       "296443  Moulay, S (corresponding author), Univ Saad Da...  ...   \n",
       "296444  Benayache, F (corresponding author), Univ Ment...  ...   \n",
       "296445  Bandou, H (corresponding author), Univ Sci & T...  ...   \n",
       "296446  Nedjimi, B (corresponding author), Ctr Univ Dj...  ...   \n",
       "\n",
       "       Corresponding_author_last_name  \\\n",
       "87                            Camargo   \n",
       "334                          Karthick   \n",
       "476                    Melero-Jimenez   \n",
       "1084                          Alvarez   \n",
       "1094                         Aulicino   \n",
       "...                               ...   \n",
       "296442                       Senoussi   \n",
       "296443                         Moulay   \n",
       "296444                      Benayache   \n",
       "296445                         Bandou   \n",
       "296446                        Nedjimi   \n",
       "\n",
       "                             first and last names First_names_extracted  \\\n",
       "87                  ['Camargo, Eduardo Caffagni']      Eduardo Caffagni   \n",
       "334                 ['Karthick, Balasubramanian']       Balasubramanian   \n",
       "476                ['Melero-Jimenez, Ignacio J.']            Ignacio J.   \n",
       "1084                         ['Alvarez, Claudio']               Claudio   \n",
       "1094                             ['Aulicino, MB']                   NaN   \n",
       "...                                           ...                   ...   \n",
       "296442              ['Senoussi, Mohammed Mourad']       Mohammed Mourad   \n",
       "296443                           ['Moulay, Saad']                  Saad   \n",
       "296444  ['Benayache, Samir', 'Benayache, Fadila']                 Samir   \n",
       "296445                             ['Bandou, H.']                   NaN   \n",
       "296446                        ['Nedjimi, Bouzid']                Bouzid   \n",
       "\n",
       "       First_names_currated inferred_gender gender_inference_accuracy  \\\n",
       "87         Eduardo Caffagni            male                     100.0   \n",
       "334         Balasubramanian            male                      99.0   \n",
       "476              Ignacio J.            male                     100.0   \n",
       "1084                Claudio            male                      99.0   \n",
       "1094                    NaN             NaN                       NaN   \n",
       "...                     ...             ...                       ...   \n",
       "296442      Mohammed Mourad            male                      98.0   \n",
       "296443                 Saad            male                      97.0   \n",
       "296444                Samir            male                      98.0   \n",
       "296445                  NaN             NaN                       NaN   \n",
       "296446               Bouzid            male                      95.0   \n",
       "\n",
       "       #_samples_gender_inference Per_capita_income_2020      GDP_2020  \\\n",
       "87                        13431.0           14834.193700  1.450000e+12   \n",
       "334                         320.0            6525.428052  2.670000e+12   \n",
       "476                           3.0           37756.351000  1.280000e+12   \n",
       "1084                       1560.0           25089.031300  2.530000e+11   \n",
       "1094                          NaN           20769.032380  3.900000e+11   \n",
       "...                           ...                    ...           ...   \n",
       "296442                     6999.0           11323.312220  1.450000e+11   \n",
       "296443                      414.0           11323.312220  1.450000e+11   \n",
       "296444                     9144.0           11323.312220  1.450000e+11   \n",
       "296445                        NaN           11323.312220  1.450000e+11   \n",
       "296446                      222.0           11323.312220  1.450000e+11   \n",
       "\n",
       "            _merge  \n",
       "87            both  \n",
       "334           both  \n",
       "476           both  \n",
       "1084          both  \n",
       "1094          both  \n",
       "...            ...  \n",
       "296442  right_only  \n",
       "296443  right_only  \n",
       "296444  right_only  \n",
       "296445  right_only  \n",
       "296446  right_only  \n",
       "\n",
       "[17408 rows x 53 columns]"
      ]
     },
     "execution_count": 68,
     "metadata": {},
     "output_type": "execute_result"
    }
   ],
   "source": [
    "merge[pd.isnull(merge['Open Access Designations'])]"
   ]
  },
  {
   "cell_type": "code",
   "execution_count": 107,
   "id": "individual-complex",
   "metadata": {},
   "outputs": [
    {
     "name": "stdout",
     "output_type": "stream",
     "text": [
      "['Q1', 'Q2', 'Q3', 'Q4']\n",
      "['No', 'Yes']\n",
      "['Agronomy', 'Agronomy, Biotechnology and applied microbiology', 'Agronomy, Horticulture', 'Agronomy, Horticulture, genetics and heridity', 'Biochemistry and Molecular Biology, Biotechnology and applied microbiology', 'Biochemistry and molecular biology', 'Biochemistry and molecular biology, Cell biology', 'Biomedical', 'Biotechnology and applied microbiology', 'Cell biology', 'Chemistry', 'Ecology', 'Ecology, Forestry', 'Entomology, Zoology', 'Evolutionary biology', 'Genetics and heridity', 'Horticulture', 'Horticulture, Genetics and heridity', 'Marine and freshwater biology', 'Microbiology', 'Nutrition, Food science, Chemistry', 'Pharmacology and Pharmacy', 'Pharmacology and Pharmacy, Integrative and complementary medicine, Chemistry, Medicinal', 'Plant pathology', 'Plant science', 'Reproductive biology', 'Soil science']\n",
      "['Australia', 'Austria', 'Belgium', 'Brazil', 'Canada', 'China', 'Czech Republic', 'Denmark', 'England', 'France', 'France ', 'Germany', 'Germany ', 'India', 'Ireland', 'Israel', 'Italy', 'Italy ', 'Japan', 'Japan ', 'Netherlands', 'Netherlands ', 'New Zealand', 'Norway', 'Russia', 'South Africa', 'South Korea', 'Switzerland', 'Taiwan', 'Turkey', 'USA']\n",
      "['ACAD SCIENCES CZECH REPUBLIC, INST EXPERIMENTAL BOTANY', 'ACADEMIC PRESS LTD ELSEVIER SCIENCE LTD', 'ACG PUBLICATIONS', 'AMER BRYOLOGICAL LICHENOLOGICAL SOCIETY INC', 'AMER CHEMICAL SOC', 'AMER PHYTOPATHOLOGICAL SOC', 'AMER SOC HORTICULTURAL SCIENCE', 'AMER SOC PLANT BIOLOGISTS', 'AMER SOC PLANT PHYSIOLOGISTS', 'AUSTRALASIAN PLANT PATHOLOGY SOCIETY INC', 'BLACKWELL PUBLISHING LTD', 'BLACKWELL SCIENCE LTD', 'BLACKWELL VERLAG GMBH', 'BMC', 'BOTANICAL SOC AMER INC', 'BOTANICAL SOC JAPAN', 'BOTANICAL SOC KOREA', 'BRAZILIAN SOC PLANT PHYSIOLOGY', 'BUREAU SCIENTIFIC PUBL', 'C A B INTERNATIONAL', 'C S I R O PUBLISHING', 'CAMBRIDGE UNIV PRESS', 'CANADIAN PHYTOPATHOL SOC', 'CANADIAN SCIENCE PUBLISHING', 'CANADIAN SCIENCE PUBLISHING, NRC RESEARCH PRESS', 'CELL PRESS', 'CROP SCIENCE SOC AMER', 'CSIRO PUBLISHING', 'CZECH ACADEMY AGRICULTURAL SCIENCES', 'DRUCKEREI LIDDY HALM', 'EDITRICE COMPOSITORI BOLOGNA', 'EDIZIONI ETS', 'ELSEVIER', 'ELSEVIER FRANCE-EDITIONS SCIENTIFIQUES MEDICALES ELSEVIER', 'ELSEVIER GMBH', 'ELSEVIER GMBH, URBAN & FISCHER VERLAG', 'ELSEVIER IRELAND LTD', 'ELSEVIER SCI IRELAND LTD', 'ELSEVIER SCI LTD', 'ELSEVIER SCIENCE BV', 'EUGEN ULMER GMBH CO', 'FRONTIERS MEDIA SA', 'GAUTHIER-VILLARS/EDITIONS ELSEVIER', 'GEORG THIEME VERLAG', 'GEORG THIEME VERLAG KG', 'GUSTAV FISCHER VERLAG', 'INT ASSOC PLANT TAXONOMY', 'INT ASSOC PLANT TAXONOMY-IAPT', 'INT PHYCOLOGICAL SOC', 'INT SOC PLANT MOLECULAR BIOLOGY', 'JAPANESE SOC BREEDING', 'JAPANESE SOC PLANT CELL & MOLECULAR BIOLOGY', 'JAPANESE SOC PLANT PHYSIOLOGISTS', 'JOHN WILEY & SONS LTD', 'KEAI PUBLISHING LTD', 'KLUWER ACADEMIC PUBL', 'MAIK NAUKA/INTERPERIODICA', 'MAIK NAUKA/INTERPERIODICA/SPRINGER', 'MANEY PUBLISHING', 'MARCEL DEKKER INC', 'MDPI', 'MDPI AG', 'MEDITERRANEAN PHYTOPATHOLOGICAL UNION', 'MUNKSGAARD INT PUBL LTD', 'MUSEUM NATL HISTOIRE NATURELLE', 'NANJING AGRICULTURAL UNIV', 'NATL INQUIRY SERVICES CENTRE PTY LTD', 'NATL RESEARCH COUNCIL CANADA', 'NATURE PUBLISHING GROUP', 'NATURE RESEARCH', 'OPULUS PRESS UPPSALA AB', 'OXFORD UNIV PRESS', 'OXFORD UNIV PRESS INC', 'PERGAMON-ELSEVIER SCIENCE LTD', 'PLANT MANAGEMENT NETWORK', 'PLEIADES PUBLISHING INC', 'POLISH ACAD SCIENCES DEPT PLANT PHYSIOLOGY', 'PRIEL PUBL', 'RSNZ PUBLISHING', 'SIR PUBLISHING', 'SOC BOTANICA SAO PAULO', 'SOC BOTANIQUE FRANCE', 'SOC PLANT BIOCHEM BIOTECH', 'SOC ROYAL BOTAN BELGIQUE', 'SPRINGER', 'SPRINGER HEIDELBERG', 'SPRINGER INDIA', 'SPRINGER JAPAN KK', 'SPRINGER TOKYO', 'SPRINGER VERLAG', 'SPRINGER WIEN', 'SPRINGER-VERLAG', 'SPRINGER-VERLAG TOKYO', 'SPRINGER-VERLAG WIEN', 'SPRINGEROPEN', 'TAYLOR & FRANCIS AS', 'TAYLOR & FRANCIS INC', 'TAYLOR & FRANCIS LTD', 'TUBITAK SCIENTIFIC & TECHNICAL RESEARCH COUNCIL TURKEY', 'UNIV CHICAGO PRESS', 'URBAN & FISCHER VERLAG', 'W S MANEY & SONS LTD', 'WEED SCI SOC AMER', 'WILEY']\n",
      "['ABINGDON', 'ALEXANDRIA', 'AMSTERDAM', 'ANKARA', 'ATHENS', 'BASEL', 'BEIJING', 'BERLIN', 'BRATISLAVA', 'CAMBRIDGE', 'CAMPINAS', 'CARY', 'CHICAGO', 'CHICHESTER', 'CLARE', 'CLAYTON', 'COLLINGWOOD', 'COLUMBUS', 'DORDRECHT', 'FAIRFAX', 'FLORENCE', 'GEBZE-KOCAELI', 'GOTTINGEN', 'GRAHAMSTOWN', 'GRANGARDE', 'GUELPH', 'HEIDELBERG', 'HOBOKEN', 'ISSY-LES-MOULINEAUX', 'JENA', 'KRAKOW', 'KYOTO', 'LANNA', 'LAUSANNE', 'LAWRENCE', 'LEEDS', 'LILLE-CEDEX', 'LONDON', 'MADISON', 'MEISE', 'MOSCOW', 'MUNICH', 'NANJING', 'NARA', 'NEW DELHI', 'NEW YORK', 'OMAHA', 'OSLO', 'OTTAWA', 'OXFORD', 'PARIS', 'PHILADELPHIA', 'PISA', 'PRAGUE', 'PRETORIA', 'PUCHON', 'QUEENSLAND', 'REHOVOT', 'ROCKVILLE', 'SAO PAULO', 'SIENA', 'ST LOUIS', 'ST PAUL', 'STUTTGART', 'TOKYO', 'VIENNA', 'WASHINGTON', 'WELLINGTON']\n"
     ]
    },
    {
     "data": {
      "text/plain": [
       "array(['Bronze', 'Green Published', 'Green Submitted', 'Green Accepted',\n",
       "       'hybrid', 'hybrid, Green Published', 'Bronze, Green Accepted', nan,\n",
       "       'Bronze, Green Published', 'Bronze, Green Submitted',\n",
       "       'hybrid, Green Submitted, Green Published',\n",
       "       'hybrid, Green Accepted, Green Published',\n",
       "       'Green Submitted, Green Accepted', 'hybrid, Green Accepted',\n",
       "       'Bronze, Green Submitted, Green Published',\n",
       "       'Green Submitted, Green Published',\n",
       "       'hybrid, Green Submitted, Green Accepted, Green Published',\n",
       "       'hybrid, Green Submitted',\n",
       "       'Bronze, Green Submitted, Green Accepted', 'gold, Green Submitted',\n",
       "       'gold', 'gold, Green Published',\n",
       "       'gold, Green Submitted, Green Published', 'Closed',\n",
       "       'gold, Green Accepted', 'gold, Green Submitted, Green Accepted',\n",
       "       'Green Submitted, Green Accepted, Green Published',\n",
       "       'Green Accepted, Green Published',\n",
       "       'Bronze, Green Accepted, Green Published',\n",
       "       'Bronze, Green Submitted, Green Accepted, Green Published',\n",
       "       'gold, Green Accepted, Green Published',\n",
       "       'gold, Green Submitted, Green Accepted, Green Published',\n",
       "       'hybrid, Green Submitted, Green Accepted'], dtype=object)"
      ]
     },
     "execution_count": 107,
     "metadata": {},
     "output_type": "execute_result"
    }
   ],
   "source": [
    "print(sorted(pd.unique(merge['Quartile'])))\n",
    "print(sorted(pd.unique(merge['Society (Yes or No)'])))\n",
    "print(sorted(pd.unique(merge['Subspecality (JCR)'])))\n",
    "print(sorted(pd.unique(merge['Journal location'])))\n",
    "print(sorted(pd.unique(merge['Publisher'])))\n",
    "print(sorted(pd.unique(merge['Publisher City'])))\n",
    "#print(sorted(pd.unique(merge['Open Access Designations'])[1:]))\n",
    "pd.unique(merge['Open Access Designations'])"
   ]
  },
  {
   "cell_type": "code",
   "execution_count": null,
   "id": "executed-moscow",
   "metadata": {
    "scrolled": false
   },
   "outputs": [],
   "source": [
    "jidx = 185193\n",
    "for i,c in enumerate(merge.columns):\n",
    "    print(i,c,merge.loc[jidx, c],sep='\\t')\n",
    "print('\\n----------------\\n')\n",
    "for i,c in enumerate(col2):\n",
    "    print(i,c,merge.loc[jidx, c],sep='\\t')"
   ]
  },
  {
   "cell_type": "code",
   "execution_count": 103,
   "id": "urban-payment",
   "metadata": {},
   "outputs": [
    {
     "data": {
      "text/plain": [
       "22"
      ]
     },
     "execution_count": 103,
     "metadata": {},
     "output_type": "execute_result"
    }
   ],
   "source": [
    "mancol = ['Corresponding_author_last_name',\n",
    "          'gender_inference_accuracy',\n",
    "          'first and last names',\n",
    "          'First_names_extracted',\n",
    "          'inferred_gender',\n",
    "          '#_samples_gender_inference',\n",
    "          'First_names_currated',\n",
    "          'Open Access simplified',\n",
    "          'Open Access Designations']\n",
    "\n",
    "idx = 0\n",
    "mancolv = [\n",
    "    ['Bertrand', 100, ['Bertrand, Michel'], 'Michel', 'male', 2058, 'Michel', 'Green, Bronze, or Subscription', ''],\n",
    "    ['Cuvertino Santoni', 100, ['Cuvertino Santoni, Jorge'], 'Jorge', 'male', 2058, 'Jorge', 'Green, Bronze, or Subscription', ''],\n",
    "    ['Morley', '', ['Morley, SE'], '', '', '', '', 'Green, Bronze, or Subscription', ''],\n",
    "    ['Human', '', ['Human, L.R.D.'], '', '', '', '', 'Green, Bronze, or Subscription', ''],\n",
    "    ['Eloff', '', ['Eloff, J. N.'], '', '', '', '', 'Green, Bronze, or Subscription', ''],\n",
    "    ['Masoko', '', ['Masoko, P.'], '', '', '', '', 'Green, Bronze, or Subscription', ''],\n",
    "    ['Pawlowski', '', ['Pawlowski, A.'], '', '', '', '', 'Green, Bronze, or Subscription', ''],\n",
    "    ['Lundholm', 100, ['Lundholm, Nina'], 'Nina', 'female', 2058, 'Nina', 'Green, Bronze, or Subscription', ''],\n",
    "    ['Horner', '', ['Horner, HT'], '', '', '', '', 'Green, Bronze, or Subscription', ''],\n",
    "    ['Suzuki', '', ['Suzuki, M'], '', '', '', '', 'Green, Bronze, or Subscription', ''],\n",
    "    ['McNeil', 100, ['McNeil, Jeremy N.'], 'Jeremy', 'male', 2059, 'Jeremy', 'Green, Bronze, or Subscription', ''],\n",
    "    ['Stromvik', 100, ['Stromvik, Martina V.'], 'Martina', 'female', 2060, 'Martina', '', ''],\n",
    "    ['Goldringer', 100, ['Goldringer, Isabelle'], 'Isabelle', 'female', 2040, 'Isabelle', 'Green, Bronze, or Subscription', ''],\n",
    "    ['Jones', 100, ['Jones, Michelle L.'], 'Michelle', 'female', 2040, 'Michelle', 'Green, Bronze, or Subscription', 'hybrid'],\n",
    "    ['Holton', 100, ['Holton, Timothy A.'], 'Timothy', 'male', 2040, 'Timothy', 'Green, Bronze, or Subscription', 'hybrid'],\n",
    "    ['Chan', 100, ['Chan, Raquel L.'], 'Raquel', 'female', 2040, 'Raquel', 'Green, Bronze, or Subscription', ''],\n",
    "    ['Clearwater', 100, ['Clearwater, Michael J.'], \"Michael\", 'male', 2020, 'Michael', 'Green, Bronze, or Subscription', 'hybrid'],\n",
    "    ['Paek', 60, ['Paek, Kyung-Hee'], 'Kyung-Hee', 'female', 100, 'Kyung-Hee', 'Green, Bronze, or Subscription', ''],\n",
    "    ['Woodrow', '', ['Woodrow, IE'], '', '', '','', 'Green, Bronze, or Subscription', ''],\n",
    "    ['Okita', '', ['Okita, Thomas W.'], 'Thomas', 'male', 100, 'Thomas', 'Green, Bronze, or Subscription', 'Bronze'],\n",
    "    ['Cho', 10, ['Cho, MJ'], 'Moo Je', 'unknown', 10, 'Moo Je', 'Green, Bronze, or Subscription', ''],\n",
    "    ['Nagy', 100, ['Nagy, Ferenc'], 'Ferenc', 'male', 1000, 'Ferenc', 'Green, Bronze, or Subscription', 'Bronze']\n",
    "]\n",
    "len(mancolv)"
   ]
  },
  {
   "cell_type": "code",
   "execution_count": 104,
   "id": "detailed-schema",
   "metadata": {},
   "outputs": [],
   "source": [
    "for idx in range(len(lidx)):\n",
    "    for fidx in range(len(mancol)):\n",
    "        field = mancol[fidx]\n",
    "        val = mancolv[idx][fidx]\n",
    "        if val != '':\n",
    "            merge.loc[lidx[idx], field] = val"
   ]
  },
  {
   "cell_type": "code",
   "execution_count": 99,
   "id": "structured-angola",
   "metadata": {},
   "outputs": [
    {
     "name": "stdout",
     "output_type": "stream",
     "text": [
      "0\tCorresponding_author_last_name\tNagy\n",
      "1\tgender_inference_accuracy\t100.0\n",
      "2\tfirst and last names\tNagy, Ferenc\n",
      "3\tFirst_names_extracted\tFerenc\n",
      "4\tinferred_gender\tmale\n",
      "5\t#_samples_gender_inference\t1000.0\n",
      "6\tFirst_names_currated\tFerenc\n",
      "7\tOpen Access simplified\tGreen, Bronze, or Subscription\n",
      "8\tOpen Access Designations\tBronze\n"
     ]
    }
   ],
   "source": [
    "idx = 21\n",
    "for i,c in enumerate(mancol):\n",
    "    print(i,c,merge.loc[lidx[idx], c],sep='\\t')"
   ]
  },
  {
   "cell_type": "code",
   "execution_count": 37,
   "id": "otherwise-medicaid",
   "metadata": {
    "scrolled": false
   },
   "outputs": [
    {
     "name": "stdout",
     "output_type": "stream",
     "text": [
      "0\tAuthor Full Names\tBertrand, Michel; Monnat, Jean-Yves; Lohezic-Le Devehat, Francoise\n",
      "1\tArticle Title\tMyriolecis massei, a new species of Lecanoraceae from the coasts of the Armorican Massif in Western Europe\n",
      "2\tJournal\tBRYOLOGIST\n",
      "3\timpact factor (2020)\t1.2690000000000001\n",
      "4\tAuthor Keywords\tEpilithic lichens; maritime; chlorinated xanthone; asemone; Brittany; Channel Islands\n",
      "5\tKeywords Plus\tIDENTIFICATION\n",
      "6\tAbstract\tA new species of Lecanora s.l. (Lecanoraceae) has been found in several localities on the coasts of the Armorican Massif (Brittany, Normandy, Channel Islands), only on siliceous rocks in the supralittoral zone. It is particularly distinguished by its well-developed thallus reacting C+ orange in the cortex and containing chlorinated xanthones identified by HPLC-DAD-MS. Placed in the new genus Myriolecis, it is described in this study as Myriolecis massei sp. nov. and is compared to similar maritime species containing chloroxanthones. A key is given to European maritime species of Myriolecis reacting C+.\n",
      "7\tAddresses--all authors\tLa Grande Bastide, FR-84750, Viens, France; Penn ar Run Izella, FR-29770, Goulien, France; Univ Rennes, CNRS, ISCR (Institut des Sciences Chimiques de Rennes) - UMR 6226, FR-35000 Rennes, France\n",
      "8\tNations--all authors\tnan\n",
      "9\tCorresponding author Addresses\tBertrand, Michel (corresponding author), La Grande Bastide, FR-84750, Viens, France.\n",
      "10\tCorresponding author Nation\tFrance\n",
      "11\tCorresponding author Continent\tEurope\n",
      "12\tCorresponding author global designation\tGlobal North \n",
      "13\tEmail Addresses\tbertrand.mic@wanadoo.fr\n",
      "14\tResearcher Ids\tnan\n",
      "15\tORCIDs\tnan\n",
      "16\tFunding Orgs\tnan\n",
      "17\tFunding Text\tnan\n",
      "18\tCited Reference Count\t30.0\n",
      "19\tTimes Cited, All Databases\t1\n",
      "20\tPublisher\tAMER BRYOLOGICAL LICHENOLOGICAL SOCIETY INC\n",
      "21\tPublisher City\tOMAHA\n",
      "22\tPublisher Address\tC/O  DR ROBERT S EGAN, SEC-TRES, ABLS, UNIV NEBRASKA OMAHA, DEPT BIOLOGY, OMAHA, NE 68182-0040 USA\n",
      "23\tISSN\t0007-2745\n",
      "24\teISSN\t1938-4378\n",
      "25\tPublication Date\tFAL\n",
      "26\tPublication Year\t2018\n",
      "27\tVolume\t121\n",
      "28\tIssue\t3\n",
      "29\tDOI\t10.1639/0007-2745-121.3.253\n",
      "30\tWoS categories\tPlant Sciences\n",
      "31\tIDS Number\tGY0OM\n",
      "32\tUT (Unique WOS ID)\tWOS:000448220900001\n",
      "33\tPubmed Id\tnan\n",
      "34\tOpen Access Designations\tClosed\n",
      "35\tOpen Access simplified\tClosed\n",
      "\n",
      "----------------\n",
      "\n",
      "0\t#_samples_gender_inference\tnan\n",
      "1\tCorresponding_author_last_name\tnan\n",
      "2\tFirst_names_currated\tnan\n",
      "3\tFirst_names_extracted\tnan\n",
      "4\tGDP_2020\tnan\n",
      "5\tJournal location\tUSA\n",
      "6\tName of the society\tAmerican bryological and lichenological society \n",
      "7\tOpen Access options available\tSubscription\n",
      "8\tOpen access fees (USD)\tnan\n",
      "9\tPer_capita_income_2020\tnan\n",
      "10\tQuartile\tQ3\n",
      "11\tSociety (Yes or No)\tYes\n",
      "12\tSubspecality (JCR)\tPlant science\n",
      "13\tfirst and last names\tnan\n",
      "14\tgender_inference_accuracy\tnan\n",
      "15\tinferred_gender\tnan\n"
     ]
    }
   ],
   "source": [
    "idx = 0\n",
    "for i,c in enumerate(data.columns):\n",
    "    print(i,c,merge.loc[lidx[idx], c],sep='\\t')\n",
    "print('\\n----------------\\n')\n",
    "for i,c in enumerate(col2):\n",
    "    print(i,c,merge.loc[lidx[idx], c],sep='\\t')"
   ]
  },
  {
   "cell_type": "code",
   "execution_count": 108,
   "id": "multiple-trial",
   "metadata": {},
   "outputs": [],
   "source": [
    "filename = '../data/Plt_sci_publications_merged_8.09.csv'\n",
    "merge.to_csv(filename, index=False)"
   ]
  },
  {
   "cell_type": "markdown",
   "id": "ceramic-wrapping",
   "metadata": {},
   "source": [
    "# Fix abstracts"
   ]
  },
  {
   "cell_type": "code",
   "execution_count": 77,
   "id": "interior-subdivision",
   "metadata": {},
   "outputs": [
    {
     "name": "stderr",
     "output_type": "stream",
     "text": [
      "/home/ejam/.local/lib/python3.6/site-packages/IPython/core/interactiveshell.py:3072: DtypeWarning: Columns (26,37,38) have mixed types.Specify dtype option on import or set low_memory=False.\n",
      "  interactivity=interactivity, compiler=compiler, result=result)\n"
     ]
    }
   ],
   "source": [
    "filename = '../data/Plt_sci_publications_geocoordinated_8.19.csv'\n",
    "df = pd.read_csv(filename, index_col=False)"
   ]
  },
  {
   "cell_type": "code",
   "execution_count": 78,
   "id": "banned-nelson",
   "metadata": {},
   "outputs": [
    {
     "name": "stdout",
     "output_type": "stream",
     "text": [
      "(296447, 59)\n",
      "(296447, 53)\n"
     ]
    }
   ],
   "source": [
    "print(df.shape)\n",
    "print(merge.shape)"
   ]
  },
  {
   "cell_type": "code",
   "execution_count": 79,
   "id": "unusual-usage",
   "metadata": {},
   "outputs": [],
   "source": [
    "foo = ['Abstract', 'Funding Orgs', 'Funding Text', 'Author Keywords', 'Keywords Plus', \n",
    "       'Author Full Names', 'Article Title']\n",
    "for bar in foo:\n",
    "    df[bar] = merge[bar]"
   ]
  },
  {
   "cell_type": "code",
   "execution_count": 80,
   "id": "posted-particular",
   "metadata": {},
   "outputs": [],
   "source": [
    "filename = '../data/Plt_sci_publications_geocoordinated_8.19.csv'\n",
    "df.to_csv(filename, index=False)"
   ]
  },
  {
   "cell_type": "code",
   "execution_count": 81,
   "id": "regular-driver",
   "metadata": {},
   "outputs": [
    {
     "data": {
      "text/plain": [
       "'The present study investigated phenolic compounds and enzymes involved in female fertility in banana plants of the Cavendish subgroup. The wild diploid Calcutta 4 and commercial cultivar Grand Naine (Cavendish subgroup) were used. The following five stages of floral development were proposed: S1 (partial vertical emission), S2 (total vertical emission), S3 (total horizontal emission), S4 (pre-anthesis), and S5 (anthesis). Following collection, pistillate (female) flowers were freeze-dried for the subsequent removal of nectaries and the analysis of phenolic compounds (PCs), antioxidant activity (DPPH and ABTS), enzymatic activity [peroxidase (POD) and polyphenol oxidase (PPO)], and total proteins (TPs). The highest values were recorded at the S3 stage, with the values decreasing as the stages progressed (until S5). At the S3 stage, the following results were obtained for Calcutta 4 and Grand Naine, respectively: PCs (32.4 and 36.1 mg GAE center dot g(-1)); DPPH (735.2 and 454.4 mu M TE center dot g(-1)); ABTS (647.8 and 555.5 mu M TE center dot g(-1)); POD (0.8 and 0.7 mu mol center dot min(-1)center dot g(-1)); PPO (3.7 and 2.7 mu mol center dot min(-1)center dot g(-1)); and TP (3.2 and 2.4 mu mol center dot min(-1)center dot g(-1)). These results indicate that PCs and enzymes regulate female fertility, suggesting that crossbreeding should be performed from the S3 stage in cultivars of the Cavendish subgroup to achieve fruits with seeds.'"
      ]
     },
     "execution_count": 81,
     "metadata": {},
     "output_type": "execute_result"
    }
   ],
   "source": [
    "auth = 'dos Santos Silva, Manasses; da Hora Goes, Naiala; dos Santos-Serejo, Janay Almeida; Ferreira, Claudia Fortes; Amorim, Edson Perito'\n",
    "df[df['Author Full Names'] == auth]['Abstract'].values[0]"
   ]
  }
 ],
 "metadata": {
  "kernelspec": {
   "display_name": "Python 3",
   "language": "python",
   "name": "python3"
  },
  "language_info": {
   "codemirror_mode": {
    "name": "ipython",
    "version": 3
   },
   "file_extension": ".py",
   "mimetype": "text/x-python",
   "name": "python",
   "nbconvert_exporter": "python",
   "pygments_lexer": "ipython3",
   "version": "3.6.9"
  }
 },
 "nbformat": 4,
 "nbformat_minor": 5
}
